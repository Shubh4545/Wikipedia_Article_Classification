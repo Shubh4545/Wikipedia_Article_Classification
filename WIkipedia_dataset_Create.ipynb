{
  "cells": [
    {
      "cell_type": "markdown",
      "metadata": {
        "id": "view-in-github",
        "colab_type": "text"
      },
      "source": [
        "<a href=\"https://colab.research.google.com/github/Shubh4545/Wikipedia_Article_Classification/blob/main/WIkipedia_dataset_Create.ipynb\" target=\"_parent\"><img src=\"https://colab.research.google.com/assets/colab-badge.svg\" alt=\"Open In Colab\"/></a>"
      ]
    },
    {
      "cell_type": "markdown",
      "metadata": {
        "id": "2RbM7ogPWY3_"
      },
      "source": [
        "#**0.Import Libraries**"
      ]
    },
    {
      "cell_type": "code",
      "execution_count": null,
      "metadata": {
        "colab": {
          "base_uri": "https://localhost:8080/"
        },
        "id": "G1BttgXGWXTq",
        "outputId": "8d023a1d-473c-45aa-93d9-963ec374c6ce"
      },
      "outputs": [
        {
          "name": "stdout",
          "output_type": "stream",
          "text": [
            "Looking in indexes: https://pypi.org/simple, https://us-python.pkg.dev/colab-wheels/public/simple/\n",
            "Collecting Wikipedia-API\n",
            "  Downloading Wikipedia_API-0.5.8-py3-none-any.whl (13 kB)\n",
            "Requirement already satisfied: requests in /usr/local/lib/python3.9/dist-packages (from Wikipedia-API) (2.25.1)\n",
            "Requirement already satisfied: certifi>=2017.4.17 in /usr/local/lib/python3.9/dist-packages (from requests->Wikipedia-API) (2022.12.7)\n",
            "Requirement already satisfied: urllib3<1.27,>=1.21.1 in /usr/local/lib/python3.9/dist-packages (from requests->Wikipedia-API) (1.26.14)\n",
            "Requirement already satisfied: idna<3,>=2.5 in /usr/local/lib/python3.9/dist-packages (from requests->Wikipedia-API) (2.10)\n",
            "Requirement already satisfied: chardet<5,>=3.0.2 in /usr/local/lib/python3.9/dist-packages (from requests->Wikipedia-API) (4.0.0)\n",
            "Installing collected packages: Wikipedia-API\n",
            "Successfully installed Wikipedia-API-0.5.8\n"
          ]
        }
      ],
      "source": [
        "! pip install Wikipedia-API\n",
        "import wikipediaapi\n",
        "import pandas as pd\n",
        "import pandas as pd\n",
        "import wikipediaapi\n",
        "import math\n",
        "import json\n",
        "import os"
      ]
    },
    {
      "cell_type": "code",
      "execution_count": null,
      "metadata": {
        "colab": {
          "base_uri": "https://localhost:8080/"
        },
        "id": "FbabePRtY3fb",
        "outputId": "b52d0f7b-c139-4bb5-d2d7-96a4b2aced70"
      },
      "outputs": [
        {
          "name": "stdout",
          "output_type": "stream",
          "text": [
            "Mounted at /content/drive\n"
          ]
        }
      ],
      "source": [
        "from google.colab import drive\n",
        "drive.mount('/content/drive')"
      ]
    },
    {
      "cell_type": "markdown",
      "metadata": {
        "id": "hll4wEv8g_vP"
      },
      "source": [
        "#**1.Create Dataset**"
      ]
    },
    {
      "cell_type": "markdown",
      "metadata": {
        "id": "D27PPkeYhWjC"
      },
      "source": [
        "**1.create sampled articles from the following [dataset](https://drive.google.com/drive/folders/1mwGpziHBm6H2VwBbofNaQBHIW6KjCzzi)**"
      ]
    },
    {
      "cell_type": "code",
      "execution_count": null,
      "metadata": {
        "id": "Hd0dPk9pg_ZC"
      },
      "outputs": [],
      "source": [
        "'''# load your data into a DataFrame (replace 'data.csv' with your data file name)\n",
        "df = pd.read_csv('/content/drive/MyDrive/COLAB/articleDesc.csv',encoding='iso-8859-1')\n",
        "\n",
        "# randomly sample 10000 rows from the DataFrame\n",
        "sample = df.sample(n=100, replace=False, random_state=42)\n",
        "print(sample.shape)\n",
        "# print the sample\n",
        "sample.to_csv('sample.csv')\n",
        "'''"
      ]
    },
    {
      "cell_type": "markdown",
      "metadata": {
        "id": "NtQu0PPcjSuj"
      },
      "source": [
        "**2.Now from sampled articles names fetch data from wikipedia using wikipediaapi**"
      ]
    },
    {
      "cell_type": "code",
      "execution_count": null,
      "metadata": {
        "id": "tpSUyIwmjoEN"
      },
      "outputs": [],
      "source": [
        "'''# Create a Wikipedia object\n",
        "wiki = wikipediaapi.Wikipedia('en')\n",
        "\n",
        "# Replace `df` with your DataFrame containing the article names\n",
        "df = pd.read_csv('/content/drive/MyDrive/COLAB/sample.csv', encoding='ISO-8859-1')\n",
        "\n",
        "# Load existing data or create a new DataFrame with the correct columns\n",
        "existing_data_file = 'existing_data.csv'\n",
        "if os.path.isfile(existing_data_file):\n",
        "    existing_data = pd.read_csv(existing_data_file, encoding='ISO-8859-1')\n",
        "else:\n",
        "    existing_data = pd.DataFrame(columns=['Title', 'Article Name', 'Summary', 'Full Text', 'Links', 'Sections', 'Categories', 'Class'])\n",
        "\n",
        "# Create a set of existing articles to check for duplicates\n",
        "existing_articles = set(existing_data['Article Name'])\n",
        "\n",
        "# Create a list to store the data\n",
        "data = []\n",
        "\n",
        "# Iterate over the article names and retrieve data from Wikipedia\n",
        "for i, article in enumerate(df['Article Name']):\n",
        "    if article in existing_articles:\n",
        "        continue  # skip if article already exists in existing_data\n",
        "    page = wiki.page(article)\n",
        "    summary = page.summary\n",
        "    full_text = page.text\n",
        "    title = page.title\n",
        "\n",
        "    # Retrieve links and handle JSONDecodeError\n",
        "    try:\n",
        "        links = [link.title for link in page.links.values()]\n",
        "    except json.decoder.JSONDecodeError as e:\n",
        "        links = []\n",
        "\n",
        "    sections = len(page.sections)\n",
        "    categories = [cat[9:] for cat in page.categories.keys()]\n",
        "    article_class = df.loc[i, 'Class']\n",
        "    \n",
        "    # Handle encoding errors by replacing them with a question mark\n",
        "    summary = summary.encode('ascii', 'replace').decode('utf-8')\n",
        "    full_text = full_text.encode('ascii', 'replace').decode('utf-8')\n",
        "    title = title.encode('ascii', 'replace').decode('utf-8')\n",
        "    links = [link.encode('ascii', 'replace').decode('utf-8') for link in links]\n",
        "    categories = [cat.encode('ascii', 'replace').decode('utf-8') for cat in categories]\n",
        "    \n",
        "    # Add the data to the list\n",
        "    data.append([title, article, summary, full_text, links, sections, categories, article_class])\n",
        "\n",
        "    # Save the data to the existing file every 100 records\n",
        "    if (i + 1) % 100 == 0:\n",
        "        existing_data = pd.concat([existing_data, pd.DataFrame(data, columns=existing_data.columns)], ignore_index=True)\n",
        "        existing_data.to_csv(existing_data_file, index=False, encoding='utf-8')\n",
        "        data = []\n",
        "\n",
        "# Save any remaining data to the file\n",
        "if data:\n",
        "    existing_data = pd.concat([existing_data, pd.DataFrame(data, columns=existing_data.columns)], ignore_index=True)\n",
        "    existing_data.to_csv(existing_data_file, index=False, encoding='utf-8')\n",
        "'''"
      ]
    }
  ],
  "metadata": {
    "colab": {
      "provenance": [],
      "authorship_tag": "ABX9TyOQp5nvUPpIdz8kI0sXtFdt",
      "include_colab_link": true
    },
    "kernelspec": {
      "display_name": "Python 3",
      "name": "python3"
    },
    "language_info": {
      "name": "python"
    }
  },
  "nbformat": 4,
  "nbformat_minor": 0
}