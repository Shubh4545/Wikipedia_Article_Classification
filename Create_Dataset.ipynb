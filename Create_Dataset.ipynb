{
  "nbformat": 4,
  "nbformat_minor": 0,
  "metadata": {
    "colab": {
      "provenance": [],
      "authorship_tag": "ABX9TyO226FJCAaoN0b8zMsWRDUz",
      "include_colab_link": true
    },
    "kernelspec": {
      "name": "python3",
      "display_name": "Python 3"
    },
    "language_info": {
      "name": "python"
    }
  },
  "cells": [
    {
      "cell_type": "markdown",
      "metadata": {
        "id": "view-in-github",
        "colab_type": "text"
      },
      "source": [
        "<a href=\"https://colab.research.google.com/github/Shubh4545/Wikipedia_Article_Classification/blob/main/Create_Dataset.ipynb\" target=\"_parent\"><img src=\"https://colab.research.google.com/assets/colab-badge.svg\" alt=\"Open In Colab\"/></a>"
      ]
    },
    {
      "cell_type": "markdown",
      "source": [
        "#**1.Create Dataset**"
      ],
      "metadata": {
        "id": "hll4wEv8g_vP"
      }
    },
    {
      "cell_type": "markdown",
      "source": [
        "**1.create sampled articles from the following [dataset](https://drive.google.com/drive/folders/1mwGpziHBm6H2VwBbofNaQBHIW6KjCzzi)**"
      ],
      "metadata": {
        "id": "D27PPkeYhWjC"
      }
    },
    {
      "cell_type": "code",
      "source": [
        "'''# load your data into a DataFrame (replace 'data.csv' with your data file name)\n",
        "df = pd.read_csv('/content/drive/MyDrive/COLAB/articleDesc.csv',encoding='iso-8859-1')\n",
        "\n",
        "# randomly sample 10000 rows from the DataFrame\n",
        "sample = df.sample(n=100, replace=False, random_state=42)\n",
        "print(sample.shape)\n",
        "# print the sample\n",
        "sample.to_csv('sample.csv')\n",
        "'''"
      ],
      "metadata": {
        "colab": {
          "base_uri": "https://localhost:8080/",
          "height": 72
        },
        "id": "Hd0dPk9pg_ZC",
        "outputId": "75f0b89e-2cff-46d9-c396-1a1bee81a76d"
      },
      "execution_count": null,
      "outputs": [
        {
          "output_type": "execute_result",
          "data": {
            "text/plain": [
              "\"# load your data into a DataFrame (replace 'data.csv' with your data file name)\\ndf = pd.read_csv('/content/drive/MyDrive/COLAB/articleDesc.csv',encoding='iso-8859-1')\\n\\n# randomly sample 10000 rows from the DataFrame\\nsample = df.sample(n=100, replace=False, random_state=42)\\nprint(sample.shape)\\n# print the sample\\nsample.to_csv('sample.csv')\\n\""
            ],
            "application/vnd.google.colaboratory.intrinsic+json": {
              "type": "string"
            }
          },
          "metadata": {},
          "execution_count": 4
        }
      ]
    },
    {
      "cell_type": "markdown",
      "source": [
        "**2.Now from sampled articles names fetch data from wikipedia using wikipediaapi**"
      ],
      "metadata": {
        "id": "NtQu0PPcjSuj"
      }
    },
    {
      "cell_type": "code",
      "source": [
        "'''# Create a Wikipedia object\n",
        "wiki = wikipediaapi.Wikipedia('en')\n",
        "\n",
        "# Replace `df` with your DataFrame containing the article names\n",
        "df = pd.read_csv('/content/drive/MyDrive/COLAB/sample.csv', encoding='ISO-8859-1')\n",
        "\n",
        "# Load existing data or create a new DataFrame with the correct columns\n",
        "existing_data_file = 'existing_data.csv'\n",
        "if os.path.isfile(existing_data_file):\n",
        "    existing_data = pd.read_csv(existing_data_file, encoding='ISO-8859-1')\n",
        "else:\n",
        "    existing_data = pd.DataFrame(columns=['Title', 'Article Name', 'Summary', 'Full Text', 'Links', 'Sections', 'Categories', 'Class'])\n",
        "\n",
        "# Create a set of existing articles to check for duplicates\n",
        "existing_articles = set(existing_data['Article Name'])\n",
        "\n",
        "# Create a list to store the data\n",
        "data = []\n",
        "\n",
        "# Iterate over the article names and retrieve data from Wikipedia\n",
        "for i, article in enumerate(df['Article Name']):\n",
        "    if article in existing_articles:\n",
        "        continue  # skip if article already exists in existing_data\n",
        "    page = wiki.page(article)\n",
        "    summary = page.summary\n",
        "    full_text = page.text\n",
        "    title = page.title\n",
        "\n",
        "    # Retrieve links and handle JSONDecodeError\n",
        "    try:\n",
        "        links = [link.title for link in page.links.values()]\n",
        "    except json.decoder.JSONDecodeError as e:\n",
        "        links = []\n",
        "\n",
        "    sections = len(page.sections)\n",
        "    categories = [cat[9:] for cat in page.categories.keys()]\n",
        "    article_class = df.loc[i, 'Class']\n",
        "    \n",
        "    # Handle encoding errors by replacing them with a question mark\n",
        "    summary = summary.encode('ascii', 'replace').decode('utf-8')\n",
        "    full_text = full_text.encode('ascii', 'replace').decode('utf-8')\n",
        "    title = title.encode('ascii', 'replace').decode('utf-8')\n",
        "    links = [link.encode('ascii', 'replace').decode('utf-8') for link in links]\n",
        "    categories = [cat.encode('ascii', 'replace').decode('utf-8') for cat in categories]\n",
        "    \n",
        "    # Add the data to the list\n",
        "    data.append([title, article, summary, full_text, links, sections, categories, article_class])\n",
        "\n",
        "    # Save the data to the existing file every 100 records\n",
        "    if (i + 1) % 100 == 0:\n",
        "        existing_data = pd.concat([existing_data, pd.DataFrame(data, columns=existing_data.columns)], ignore_index=True)\n",
        "        existing_data.to_csv(existing_data_file, index=False, encoding='utf-8')\n",
        "        data = []\n",
        "\n",
        "# Save any remaining data to the file\n",
        "if data:\n",
        "    existing_data = pd.concat([existing_data, pd.DataFrame(data, columns=existing_data.columns)], ignore_index=True)\n",
        "    existing_data.to_csv(existing_data_file, index=False, encoding='utf-8')\n",
        "'''"
      ],
      "metadata": {
        "colab": {
          "base_uri": "https://localhost:8080/",
          "height": 145
        },
        "id": "tpSUyIwmjoEN",
        "outputId": "f0aea4b1-3578-4899-c31e-fa6c3f1d44e5"
      },
      "execution_count": null,
      "outputs": [
        {
          "output_type": "execute_result",
          "data": {
            "text/plain": [
              "\"# Create a Wikipedia object\\nwiki = wikipediaapi.Wikipedia('en')\\n\\n# Replace `df` with your DataFrame containing the article names\\ndf = pd.read_csv('/content/drive/MyDrive/COLAB/sample.csv', encoding='ISO-8859-1')\\n\\n# Load existing data or create a new DataFrame with the correct columns\\nexisting_data_file = 'existing_data.csv'\\nif os.path.isfile(existing_data_file):\\n    existing_data = pd.read_csv(existing_data_file, encoding='ISO-8859-1')\\nelse:\\n    existing_data = pd.DataFrame(columns=['Title', 'Article Name', 'Summary', 'Full Text', 'Links', 'Sections', 'Categories', 'Class'])\\n\\n# Create a set of existing articles to check for duplicates\\nexisting_articles = set(existing_data['Article Name'])\\n\\n# Create a list to store the data\\ndata = []\\n\\n# Iterate over the article names and retrieve data from Wikipedia\\nfor i, article in enumerate(df['Article Name']):\\n    if article in existing_articles:\\n        continue  # skip if article already exists in existing_data\\n    page = wiki.page(article)\\n    summary = page.summary\\n    full_text = page.text\\n    title = page.title\\n\\n    # Retrieve links and handle JSONDecodeError\\n    try:\\n        links = [link.title for link in page.links.values()]\\n    except json.decoder.JSONDecodeError as e:\\n        links = []\\n\\n    sections = len(page.sections)\\n    categories = [cat[9:] for cat in page.categories.keys()]\\n    article_class = df.loc[i, 'Class']\\n    \\n    # Handle encoding errors by replacing them with a question mark\\n    summary = summary.encode('ascii', 'replace').decode('utf-8')\\n    full_text = full_text.encode('ascii', 'replace').decode('utf-8')\\n    title = title.encode('ascii', 'replace').decode('utf-8')\\n    links = [link.encode('ascii', 'replace').decode('utf-8') for link in links]\\n    categories = [cat.encode('ascii', 'replace').decode('utf-8') for cat in categories]\\n    \\n    # Add the data to the list\\n    data.append([title, article, summary, full_text, links, sections, categories, article_class])\\n\\n    # Save the data to the existing file every 100 records\\n    if (i + 1) % 100 == 0:\\n        existing_data = pd.concat([existing_data, pd.DataFrame(data, columns=existing_data.columns)], ignore_index=True)\\n        existing_data.to_csv(existing_data_file, index=False, encoding='utf-8')\\n        data = []\\n\\n# Save any remaining data to the file\\nif data:\\n    existing_data = pd.concat([existing_data, pd.DataFrame(data, columns=existing_data.columns)], ignore_index=True)\\n    existing_data.to_csv(existing_data_file, index=False, encoding='utf-8')\\n\""
            ],
            "application/vnd.google.colaboratory.intrinsic+json": {
              "type": "string"
            }
          },
          "metadata": {},
          "execution_count": 5
        }
      ]
    }
  ]
}