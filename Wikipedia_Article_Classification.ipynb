{
  "cells": [
    {
      "cell_type": "markdown",
      "metadata": {
        "id": "view-in-github",
        "colab_type": "text"
      },
      "source": [
        "<a href=\"https://colab.research.google.com/github/Shubh4545/Wikipedia_Article_Classification/blob/main/Wikipedia_Article_Classification.ipynb\" target=\"_parent\"><img src=\"https://colab.research.google.com/assets/colab-badge.svg\" alt=\"Open In Colab\"/></a>"
      ]
    },
    {
      "cell_type": "markdown",
      "metadata": {
        "id": "2RbM7ogPWY3_"
      },
      "source": [
        "#**0.Import Libraries**"
      ]
    },
    {
      "cell_type": "code",
      "source": [
        "\n",
        "import pandas as pd\n",
        "import numpy as np\n",
        "import seaborn as sns \n",
        "import matplotlib.pyplot as plt\n",
        "\n",
        "from sklearn.model_selection import train_test_split\n",
        "\n",
        "from sklearn.preprocessing import StandardScaler \n",
        "from sklearn.preprocessing import LabelEncoder\n",
        "\n",
        "from sklearn.linear_model import LogisticRegression \n",
        "from sklearn.ensemble import RandomForestClassifier\n",
        "import xgboost as xgb\n",
        "from sklearn import tree\n",
        "from sklearn.tree import DecisionTreeClassifier\n",
        "\n",
        "from sklearn.metrics import accuracy_score\n",
        "from sklearn.metrics import roc_auc_score,confusion_matrix\n",
        "\n",
        "from imblearn.combine import SMOTETomek\n",
        "\n",
        "import warnings\n",
        "warnings.filterwarnings(\"ignore\", category=DeprecationWarning)"
      ],
      "metadata": {
        "id": "ASXFAfAWggl3"
      },
      "execution_count": null,
      "outputs": []
    },
    {
      "cell_type": "code",
      "execution_count": 1,
      "metadata": {
        "colab": {
          "base_uri": "https://localhost:8080/"
        },
        "id": "G1BttgXGWXTq",
        "outputId": "4642b952-c85d-4a37-d269-5530980f8b73"
      },
      "outputs": [
        {
          "output_type": "stream",
          "name": "stdout",
          "text": [
            "Looking in indexes: https://pypi.org/simple, https://us-python.pkg.dev/colab-wheels/public/simple/\n",
            "Collecting Wikipedia-API\n",
            "  Downloading Wikipedia_API-0.5.8-py3-none-any.whl (13 kB)\n",
            "Requirement already satisfied: requests in /usr/local/lib/python3.9/dist-packages (from Wikipedia-API) (2.25.1)\n",
            "Requirement already satisfied: chardet<5,>=3.0.2 in /usr/local/lib/python3.9/dist-packages (from requests->Wikipedia-API) (4.0.0)\n",
            "Requirement already satisfied: urllib3<1.27,>=1.21.1 in /usr/local/lib/python3.9/dist-packages (from requests->Wikipedia-API) (1.26.15)\n",
            "Requirement already satisfied: certifi>=2017.4.17 in /usr/local/lib/python3.9/dist-packages (from requests->Wikipedia-API) (2022.12.7)\n",
            "Requirement already satisfied: idna<3,>=2.5 in /usr/local/lib/python3.9/dist-packages (from requests->Wikipedia-API) (2.10)\n",
            "Installing collected packages: Wikipedia-API\n",
            "Successfully installed Wikipedia-API-0.5.8\n"
          ]
        }
      ],
      "source": [
        "! pip install Wikipedia-API\n",
        "import wikipediaapi\n",
        "import pandas as pd\n",
        "import pandas as pd\n",
        "import wikipediaapi\n",
        "import math\n",
        "import json\n",
        "import os"
      ]
    },
    {
      "cell_type": "code",
      "execution_count": 2,
      "metadata": {
        "colab": {
          "base_uri": "https://localhost:8080/"
        },
        "id": "FbabePRtY3fb",
        "outputId": "704da542-356f-4fb2-da86-8f5844c8095e"
      },
      "outputs": [
        {
          "output_type": "stream",
          "name": "stdout",
          "text": [
            "Mounted at /content/drive\n"
          ]
        }
      ],
      "source": [
        "from google.colab import drive\n",
        "drive.mount('/content/drive')"
      ]
    },
    {
      "cell_type": "markdown",
      "metadata": {
        "id": "NI9PM-vFvdw9"
      },
      "source": [
        "#**1.Clean Dataset**"
      ]
    },
    {
      "cell_type": "code",
      "execution_count": 3,
      "metadata": {
        "id": "taY2h_K7vc6B",
        "colab": {
          "base_uri": "https://localhost:8080/",
          "height": 337
        },
        "outputId": "719d1022-c27f-4f6b-82a4-634849ecd076"
      },
      "outputs": [
        {
          "output_type": "execute_result",
          "data": {
            "text/plain": [
              "                         Title  \\\n",
              "0  List of Beast Wars episodes   \n",
              "1             Emeka Jude Ugali   \n",
              "2          N?rnberg Falcons BC   \n",
              "3             Tareq wa Shireen   \n",
              "4             Coco (2009 film)   \n",
              "\n",
              "                                        Article Name  \\\n",
              "0                                     Double_Dinobot   \n",
              "1                                   Emeka_Jude_Ugali   \n",
              "2  NÃÂÃÂÃÂÃÂÃÂÃÂÃÂÃÂÃÂÃÂÃÂÃ...   \n",
              "3                                   Tareq_wa_Shireen   \n",
              "4                                   Coco_(2009_film)   \n",
              "\n",
              "                                             Summary  \\\n",
              "0  The episodes listed below are from the animate...   \n",
              "1  Emeka Jude Ugali (born 28 May 1982) is a retir...   \n",
              "2  N?rnberg Falcons BC, formerly called N?rnberge...   \n",
              "3  Tareq wa Shireen (Arabic: ???? ? ?????) is one...   \n",
              "4  Coco is a 2009 French comedy film written, dir...   \n",
              "\n",
              "                                           Full Text  \\\n",
              "0  The episodes listed below are from the animate...   \n",
              "1  Emeka Jude Ugali (born 28 May 1982) is a retir...   \n",
              "2  N?rnberg Falcons BC, formerly called N?rnberge...   \n",
              "3  Tareq wa Shireen (Arabic: ???? ? ?????) is one...   \n",
              "4  Coco is a 2009 French comedy film written, dir...   \n",
              "\n",
              "                                               Links Sections  \\\n",
              "0  ['Airazor', 'Ark (Transformers)', 'Asaph Fipke...        3   \n",
              "1  ['A.C. Monza', 'A.C. Monza Brianza 1912', 'Der...        2   \n",
              "2  ['2012?13 ProA', '2013?14 ProA', '2014?15 ProA...        5   \n",
              "3  ['Animation', 'Arabic', 'Arabic heritage', 'Ar...        4   \n",
              "4  ['Alain Goldman', 'Ary Abittan', 'Bar mitzvah'...        4   \n",
              "\n",
              "                                          Categories  Class  \n",
              "0  ['All articles lacking sources', 'Articles lac...    NaN  \n",
              "1  ['1982 births', 'A.C. Monza players', 'All art...  Start  \n",
              "2  ['Articles needing translation from German Wik...    NaN  \n",
              "3  ['2000s Jordanian television series', '2000s a...   Stub  \n",
              "4  ['2000s French-language films', '2000s French ...   Stub  "
            ],
            "text/html": [
              "\n",
              "  <div id=\"df-19cc8e7f-4de7-4ee8-8fd1-566f6d47e2ea\">\n",
              "    <div class=\"colab-df-container\">\n",
              "      <div>\n",
              "<style scoped>\n",
              "    .dataframe tbody tr th:only-of-type {\n",
              "        vertical-align: middle;\n",
              "    }\n",
              "\n",
              "    .dataframe tbody tr th {\n",
              "        vertical-align: top;\n",
              "    }\n",
              "\n",
              "    .dataframe thead th {\n",
              "        text-align: right;\n",
              "    }\n",
              "</style>\n",
              "<table border=\"1\" class=\"dataframe\">\n",
              "  <thead>\n",
              "    <tr style=\"text-align: right;\">\n",
              "      <th></th>\n",
              "      <th>Title</th>\n",
              "      <th>Article Name</th>\n",
              "      <th>Summary</th>\n",
              "      <th>Full Text</th>\n",
              "      <th>Links</th>\n",
              "      <th>Sections</th>\n",
              "      <th>Categories</th>\n",
              "      <th>Class</th>\n",
              "    </tr>\n",
              "  </thead>\n",
              "  <tbody>\n",
              "    <tr>\n",
              "      <th>0</th>\n",
              "      <td>List of Beast Wars episodes</td>\n",
              "      <td>Double_Dinobot</td>\n",
              "      <td>The episodes listed below are from the animate...</td>\n",
              "      <td>The episodes listed below are from the animate...</td>\n",
              "      <td>['Airazor', 'Ark (Transformers)', 'Asaph Fipke...</td>\n",
              "      <td>3</td>\n",
              "      <td>['All articles lacking sources', 'Articles lac...</td>\n",
              "      <td>NaN</td>\n",
              "    </tr>\n",
              "    <tr>\n",
              "      <th>1</th>\n",
              "      <td>Emeka Jude Ugali</td>\n",
              "      <td>Emeka_Jude_Ugali</td>\n",
              "      <td>Emeka Jude Ugali (born 28 May 1982) is a retir...</td>\n",
              "      <td>Emeka Jude Ugali (born 28 May 1982) is a retir...</td>\n",
              "      <td>['A.C. Monza', 'A.C. Monza Brianza 1912', 'Der...</td>\n",
              "      <td>2</td>\n",
              "      <td>['1982 births', 'A.C. Monza players', 'All art...</td>\n",
              "      <td>Start</td>\n",
              "    </tr>\n",
              "    <tr>\n",
              "      <th>2</th>\n",
              "      <td>N?rnberg Falcons BC</td>\n",
              "      <td>NÃÂÃÂÃÂÃÂÃÂÃÂÃÂÃÂÃÂÃÂÃÂÃ...</td>\n",
              "      <td>N?rnberg Falcons BC, formerly called N?rnberge...</td>\n",
              "      <td>N?rnberg Falcons BC, formerly called N?rnberge...</td>\n",
              "      <td>['2012?13 ProA', '2013?14 ProA', '2014?15 ProA...</td>\n",
              "      <td>5</td>\n",
              "      <td>['Articles needing translation from German Wik...</td>\n",
              "      <td>NaN</td>\n",
              "    </tr>\n",
              "    <tr>\n",
              "      <th>3</th>\n",
              "      <td>Tareq wa Shireen</td>\n",
              "      <td>Tareq_wa_Shireen</td>\n",
              "      <td>Tareq wa Shireen (Arabic: ???? ? ?????) is one...</td>\n",
              "      <td>Tareq wa Shireen (Arabic: ???? ? ?????) is one...</td>\n",
              "      <td>['Animation', 'Arabic', 'Arabic heritage', 'Ar...</td>\n",
              "      <td>4</td>\n",
              "      <td>['2000s Jordanian television series', '2000s a...</td>\n",
              "      <td>Stub</td>\n",
              "    </tr>\n",
              "    <tr>\n",
              "      <th>4</th>\n",
              "      <td>Coco (2009 film)</td>\n",
              "      <td>Coco_(2009_film)</td>\n",
              "      <td>Coco is a 2009 French comedy film written, dir...</td>\n",
              "      <td>Coco is a 2009 French comedy film written, dir...</td>\n",
              "      <td>['Alain Goldman', 'Ary Abittan', 'Bar mitzvah'...</td>\n",
              "      <td>4</td>\n",
              "      <td>['2000s French-language films', '2000s French ...</td>\n",
              "      <td>Stub</td>\n",
              "    </tr>\n",
              "  </tbody>\n",
              "</table>\n",
              "</div>\n",
              "      <button class=\"colab-df-convert\" onclick=\"convertToInteractive('df-19cc8e7f-4de7-4ee8-8fd1-566f6d47e2ea')\"\n",
              "              title=\"Convert this dataframe to an interactive table.\"\n",
              "              style=\"display:none;\">\n",
              "        \n",
              "  <svg xmlns=\"http://www.w3.org/2000/svg\" height=\"24px\"viewBox=\"0 0 24 24\"\n",
              "       width=\"24px\">\n",
              "    <path d=\"M0 0h24v24H0V0z\" fill=\"none\"/>\n",
              "    <path d=\"M18.56 5.44l.94 2.06.94-2.06 2.06-.94-2.06-.94-.94-2.06-.94 2.06-2.06.94zm-11 1L8.5 8.5l.94-2.06 2.06-.94-2.06-.94L8.5 2.5l-.94 2.06-2.06.94zm10 10l.94 2.06.94-2.06 2.06-.94-2.06-.94-.94-2.06-.94 2.06-2.06.94z\"/><path d=\"M17.41 7.96l-1.37-1.37c-.4-.4-.92-.59-1.43-.59-.52 0-1.04.2-1.43.59L10.3 9.45l-7.72 7.72c-.78.78-.78 2.05 0 2.83L4 21.41c.39.39.9.59 1.41.59.51 0 1.02-.2 1.41-.59l7.78-7.78 2.81-2.81c.8-.78.8-2.07 0-2.86zM5.41 20L4 18.59l7.72-7.72 1.47 1.35L5.41 20z\"/>\n",
              "  </svg>\n",
              "      </button>\n",
              "      \n",
              "  <style>\n",
              "    .colab-df-container {\n",
              "      display:flex;\n",
              "      flex-wrap:wrap;\n",
              "      gap: 12px;\n",
              "    }\n",
              "\n",
              "    .colab-df-convert {\n",
              "      background-color: #E8F0FE;\n",
              "      border: none;\n",
              "      border-radius: 50%;\n",
              "      cursor: pointer;\n",
              "      display: none;\n",
              "      fill: #1967D2;\n",
              "      height: 32px;\n",
              "      padding: 0 0 0 0;\n",
              "      width: 32px;\n",
              "    }\n",
              "\n",
              "    .colab-df-convert:hover {\n",
              "      background-color: #E2EBFA;\n",
              "      box-shadow: 0px 1px 2px rgba(60, 64, 67, 0.3), 0px 1px 3px 1px rgba(60, 64, 67, 0.15);\n",
              "      fill: #174EA6;\n",
              "    }\n",
              "\n",
              "    [theme=dark] .colab-df-convert {\n",
              "      background-color: #3B4455;\n",
              "      fill: #D2E3FC;\n",
              "    }\n",
              "\n",
              "    [theme=dark] .colab-df-convert:hover {\n",
              "      background-color: #434B5C;\n",
              "      box-shadow: 0px 1px 3px 1px rgba(0, 0, 0, 0.15);\n",
              "      filter: drop-shadow(0px 1px 2px rgba(0, 0, 0, 0.3));\n",
              "      fill: #FFFFFF;\n",
              "    }\n",
              "  </style>\n",
              "\n",
              "      <script>\n",
              "        const buttonEl =\n",
              "          document.querySelector('#df-19cc8e7f-4de7-4ee8-8fd1-566f6d47e2ea button.colab-df-convert');\n",
              "        buttonEl.style.display =\n",
              "          google.colab.kernel.accessAllowed ? 'block' : 'none';\n",
              "\n",
              "        async function convertToInteractive(key) {\n",
              "          const element = document.querySelector('#df-19cc8e7f-4de7-4ee8-8fd1-566f6d47e2ea');\n",
              "          const dataTable =\n",
              "            await google.colab.kernel.invokeFunction('convertToInteractive',\n",
              "                                                     [key], {});\n",
              "          if (!dataTable) return;\n",
              "\n",
              "          const docLinkHtml = 'Like what you see? Visit the ' +\n",
              "            '<a target=\"_blank\" href=https://colab.research.google.com/notebooks/data_table.ipynb>data table notebook</a>'\n",
              "            + ' to learn more about interactive tables.';\n",
              "          element.innerHTML = '';\n",
              "          dataTable['output_type'] = 'display_data';\n",
              "          await google.colab.output.renderOutput(dataTable, element);\n",
              "          const docLink = document.createElement('div');\n",
              "          docLink.innerHTML = docLinkHtml;\n",
              "          element.appendChild(docLink);\n",
              "        }\n",
              "      </script>\n",
              "    </div>\n",
              "  </div>\n",
              "  "
            ]
          },
          "metadata": {},
          "execution_count": 3
        }
      ],
      "source": [
        "dataset=pd.read_csv('/content/drive/MyDrive/COLAB/wiki/existing_data.csv')\n",
        "dataset.head()"
      ]
    },
    {
      "cell_type": "code",
      "execution_count": 51,
      "metadata": {
        "colab": {
          "base_uri": "https://localhost:8080/"
        },
        "id": "VlBo0o432nhx",
        "outputId": "891c7c09-d5c6-42a7-af0f-a1d95f0c3794"
      },
      "outputs": [
        {
          "output_type": "execute_result",
          "data": {
            "text/plain": [
              "(9744, 8)"
            ]
          },
          "metadata": {},
          "execution_count": 51
        }
      ],
      "source": [
        "#Good to work on copy of dataset than original dataset\n",
        "df=dataset.copy()  \n",
        "df.shape "
      ]
    },
    {
      "cell_type": "code",
      "execution_count": 52,
      "metadata": {
        "colab": {
          "base_uri": "https://localhost:8080/"
        },
        "id": "Ary-bKOzqBNM",
        "outputId": "c0d0e02b-2f84-4f71-b441-7c38f61a6914"
      },
      "outputs": [
        {
          "output_type": "execute_result",
          "data": {
            "text/plain": [
              "Title              0\n",
              "Article Name       1\n",
              "Summary         1018\n",
              "Full Text       1018\n",
              "Links              1\n",
              "Sections           1\n",
              "Categories         1\n",
              "Class           3176\n",
              "dtype: int64"
            ]
          },
          "metadata": {},
          "execution_count": 52
        }
      ],
      "source": [
        "df.isnull().sum()"
      ]
    },
    {
      "cell_type": "code",
      "execution_count": 54,
      "metadata": {
        "id": "g6DzdlvV6U2D"
      },
      "outputs": [],
      "source": [
        "df.dropna(subset=['Class'], inplace=True)\n"
      ]
    },
    {
      "cell_type": "code",
      "execution_count": 55,
      "metadata": {
        "id": "vlm7GuaI5TkE",
        "colab": {
          "base_uri": "https://localhost:8080/"
        },
        "outputId": "17dadad3-9c0f-4d19-d0ba-e07199dd425f"
      },
      "outputs": [
        {
          "output_type": "execute_result",
          "data": {
            "text/plain": [
              "Stub                                   3982\n",
              "Start                                  1734\n",
              "C                                       326\n",
              "List                                    243\n",
              "FA                                      133\n",
              "B                                       108\n",
              "GA                                       40\n",
              "start}}{{WikiProject Southeast Asia       1\n",
              "Class                                     1\n",
              "Name: Class, dtype: int64"
            ]
          },
          "metadata": {},
          "execution_count": 55
        }
      ],
      "source": [
        "df['Class'].value_counts()"
      ]
    },
    {
      "cell_type": "markdown",
      "metadata": {
        "id": "5ToWX0x130Aq"
      },
      "source": [
        "**As Summary and Full Text have null values present but i think we should not drop as nothing means something valueble here**\n",
        "\n",
        "**Class is our dependent variable more than 30% data null so we are going to think about it**"
      ]
    },
    {
      "cell_type": "code",
      "execution_count": 56,
      "metadata": {
        "colab": {
          "base_uri": "https://localhost:8080/"
        },
        "id": "Un2N0CSNqUQb",
        "outputId": "6a37e7ac-217a-40c1-fc02-2b7305cd23a2"
      },
      "outputs": [
        {
          "output_type": "execute_result",
          "data": {
            "text/plain": [
              "42"
            ]
          },
          "metadata": {},
          "execution_count": 56
        }
      ],
      "source": [
        "df.duplicated().sum()"
      ]
    },
    {
      "cell_type": "code",
      "execution_count": 57,
      "metadata": {
        "colab": {
          "base_uri": "https://localhost:8080/",
          "height": 641
        },
        "id": "LaSsBjMX7T9_",
        "outputId": "55702b35-195e-43f5-f560-76b259b30cf7"
      },
      "outputs": [
        {
          "output_type": "execute_result",
          "data": {
            "text/plain": [
              "                          Title  \\\n",
              "1              Emeka Jude Ugali   \n",
              "3              Tareq wa Shireen   \n",
              "4              Coco (2009 film)   \n",
              "5              Nicol?s Lombardo   \n",
              "6     Shuriken Sentai Ninninger   \n",
              "...                         ...   \n",
              "9738            Perij? tapaculo   \n",
              "9739            Albert Ket?lbey   \n",
              "9740            Perij? tapaculo   \n",
              "9741            Perij? tapaculo   \n",
              "9742            Perij? tapaculo   \n",
              "\n",
              "                                           Article Name  \\\n",
              "1                                      Emeka_Jude_Ugali   \n",
              "3                                      Tareq_wa_Shireen   \n",
              "4                                      Coco_(2009_film)   \n",
              "5     NicolÃÂÃÂÃÂÃÂÃÂÃÂÃÂÃÂÃÂÃÂÃ...   \n",
              "6                             Shuriken_Sentai_Ninninger   \n",
              "...                                                 ...   \n",
              "9738                             PerijÃÂÃÂ¡_tapaculo   \n",
              "9739                                 Albert_KetÃÂ¨lbey   \n",
              "9740                                 PerijÃÂ¡_tapaculo   \n",
              "9741                                   PerijÃ¡_tapaculo   \n",
              "9742                                    Perijá_tapaculo   \n",
              "\n",
              "                                                Summary  \\\n",
              "1     Emeka Jude Ugali (born 28 May 1982) is a retir...   \n",
              "3     Tareq wa Shireen (Arabic: ???? ? ?????) is one...   \n",
              "4     Coco is a 2009 French comedy film written, dir...   \n",
              "5     Nicol?s Italo Lombardo, also known as Nicola I...   \n",
              "6     Shuriken Sentai Ninninger (????????????, Shuri...   \n",
              "...                                                 ...   \n",
              "9738  The Perij? tapaculo (Scytalopus perijanus) is ...   \n",
              "9739  Albert William Ket?lbey (; born Ketelbey; 9 Au...   \n",
              "9740  The Perij? tapaculo (Scytalopus perijanus) is ...   \n",
              "9741  The Perij? tapaculo (Scytalopus perijanus) is ...   \n",
              "9742  The Perij? tapaculo (Scytalopus perijanus) is ...   \n",
              "\n",
              "                                              Full Text  \\\n",
              "1     Emeka Jude Ugali (born 28 May 1982) is a retir...   \n",
              "3     Tareq wa Shireen (Arabic: ???? ? ?????) is one...   \n",
              "4     Coco is a 2009 French comedy film written, dir...   \n",
              "5     Nicol?s Italo Lombardo, also known as Nicola I...   \n",
              "6     Shuriken Sentai Ninninger (????????????, Shuri...   \n",
              "...                                                 ...   \n",
              "9738  The Perij? tapaculo (Scytalopus perijanus) is ...   \n",
              "9739  Albert William Ket?lbey (; born Ketelbey; 9 Au...   \n",
              "9740  The Perij? tapaculo (Scytalopus perijanus) is ...   \n",
              "9741  The Perij? tapaculo (Scytalopus perijanus) is ...   \n",
              "9742  The Perij? tapaculo (Scytalopus perijanus) is ...   \n",
              "\n",
              "                                                  Links Sections  \\\n",
              "1     ['A.C. Monza', 'A.C. Monza Brianza 1912', 'Der...        2   \n",
              "3     ['Animation', 'Arabic', 'Arabic heritage', 'Ar...        4   \n",
              "4     ['Alain Goldman', 'Ary Abittan', 'Bar mitzvah'...        4   \n",
              "5     ['A.C. Pisa 1909 S.S.D.', 'A.S. Roma', 'Agust?...        0   \n",
              "6     ['Action fiction', 'Amazon Riders', 'Atsushi M...       11   \n",
              "...                                                 ...      ...   \n",
              "9738  ['Alexander Cort?s Diago', \"American Ornitholo...        7   \n",
              "9739  ['Adelphi Theatre', 'Alfred R. Gaul', 'Alice i...        5   \n",
              "9740  ['Alexander Cort?s Diago', \"American Ornitholo...        7   \n",
              "9741  ['Alexander Cort?s Diago', \"American Ornitholo...        7   \n",
              "9742  ['Alexander Cort?s Diago', \"American Ornitholo...        7   \n",
              "\n",
              "                                             Categories  Class  \n",
              "1     ['1982 births', 'A.C. Monza players', 'All art...  Start  \n",
              "3     ['2000s Jordanian television series', '2000s a...   Stub  \n",
              "4     ['2000s French-language films', '2000s French ...   Stub  \n",
              "5     ['1903 births', 'A.S. Roma players', 'All stub...   Stub  \n",
              "6     ['2015 Japanese television series debuts', '20...  Start  \n",
              "...                                                 ...    ...  \n",
              "9738  ['Articles containing video clips', \"Articles ...     FA  \n",
              "9739  ['1875 births', '1959 deaths', '19th-century B...     FA  \n",
              "9740  ['Articles containing video clips', \"Articles ...     FA  \n",
              "9741  ['Articles containing video clips', \"Articles ...     FA  \n",
              "9742  ['Articles containing video clips', \"Articles ...     FA  \n",
              "\n",
              "[6526 rows x 8 columns]"
            ],
            "text/html": [
              "\n",
              "  <div id=\"df-acd189db-4e77-4ffc-a8e7-aadec39a3c82\">\n",
              "    <div class=\"colab-df-container\">\n",
              "      <div>\n",
              "<style scoped>\n",
              "    .dataframe tbody tr th:only-of-type {\n",
              "        vertical-align: middle;\n",
              "    }\n",
              "\n",
              "    .dataframe tbody tr th {\n",
              "        vertical-align: top;\n",
              "    }\n",
              "\n",
              "    .dataframe thead th {\n",
              "        text-align: right;\n",
              "    }\n",
              "</style>\n",
              "<table border=\"1\" class=\"dataframe\">\n",
              "  <thead>\n",
              "    <tr style=\"text-align: right;\">\n",
              "      <th></th>\n",
              "      <th>Title</th>\n",
              "      <th>Article Name</th>\n",
              "      <th>Summary</th>\n",
              "      <th>Full Text</th>\n",
              "      <th>Links</th>\n",
              "      <th>Sections</th>\n",
              "      <th>Categories</th>\n",
              "      <th>Class</th>\n",
              "    </tr>\n",
              "  </thead>\n",
              "  <tbody>\n",
              "    <tr>\n",
              "      <th>1</th>\n",
              "      <td>Emeka Jude Ugali</td>\n",
              "      <td>Emeka_Jude_Ugali</td>\n",
              "      <td>Emeka Jude Ugali (born 28 May 1982) is a retir...</td>\n",
              "      <td>Emeka Jude Ugali (born 28 May 1982) is a retir...</td>\n",
              "      <td>['A.C. Monza', 'A.C. Monza Brianza 1912', 'Der...</td>\n",
              "      <td>2</td>\n",
              "      <td>['1982 births', 'A.C. Monza players', 'All art...</td>\n",
              "      <td>Start</td>\n",
              "    </tr>\n",
              "    <tr>\n",
              "      <th>3</th>\n",
              "      <td>Tareq wa Shireen</td>\n",
              "      <td>Tareq_wa_Shireen</td>\n",
              "      <td>Tareq wa Shireen (Arabic: ???? ? ?????) is one...</td>\n",
              "      <td>Tareq wa Shireen (Arabic: ???? ? ?????) is one...</td>\n",
              "      <td>['Animation', 'Arabic', 'Arabic heritage', 'Ar...</td>\n",
              "      <td>4</td>\n",
              "      <td>['2000s Jordanian television series', '2000s a...</td>\n",
              "      <td>Stub</td>\n",
              "    </tr>\n",
              "    <tr>\n",
              "      <th>4</th>\n",
              "      <td>Coco (2009 film)</td>\n",
              "      <td>Coco_(2009_film)</td>\n",
              "      <td>Coco is a 2009 French comedy film written, dir...</td>\n",
              "      <td>Coco is a 2009 French comedy film written, dir...</td>\n",
              "      <td>['Alain Goldman', 'Ary Abittan', 'Bar mitzvah'...</td>\n",
              "      <td>4</td>\n",
              "      <td>['2000s French-language films', '2000s French ...</td>\n",
              "      <td>Stub</td>\n",
              "    </tr>\n",
              "    <tr>\n",
              "      <th>5</th>\n",
              "      <td>Nicol?s Lombardo</td>\n",
              "      <td>NicolÃÂÃÂÃÂÃÂÃÂÃÂÃÂÃÂÃÂÃÂÃ...</td>\n",
              "      <td>Nicol?s Italo Lombardo, also known as Nicola I...</td>\n",
              "      <td>Nicol?s Italo Lombardo, also known as Nicola I...</td>\n",
              "      <td>['A.C. Pisa 1909 S.S.D.', 'A.S. Roma', 'Agust?...</td>\n",
              "      <td>0</td>\n",
              "      <td>['1903 births', 'A.S. Roma players', 'All stub...</td>\n",
              "      <td>Stub</td>\n",
              "    </tr>\n",
              "    <tr>\n",
              "      <th>6</th>\n",
              "      <td>Shuriken Sentai Ninninger</td>\n",
              "      <td>Shuriken_Sentai_Ninninger</td>\n",
              "      <td>Shuriken Sentai Ninninger (????????????, Shuri...</td>\n",
              "      <td>Shuriken Sentai Ninninger (????????????, Shuri...</td>\n",
              "      <td>['Action fiction', 'Amazon Riders', 'Atsushi M...</td>\n",
              "      <td>11</td>\n",
              "      <td>['2015 Japanese television series debuts', '20...</td>\n",
              "      <td>Start</td>\n",
              "    </tr>\n",
              "    <tr>\n",
              "      <th>...</th>\n",
              "      <td>...</td>\n",
              "      <td>...</td>\n",
              "      <td>...</td>\n",
              "      <td>...</td>\n",
              "      <td>...</td>\n",
              "      <td>...</td>\n",
              "      <td>...</td>\n",
              "      <td>...</td>\n",
              "    </tr>\n",
              "    <tr>\n",
              "      <th>9738</th>\n",
              "      <td>Perij? tapaculo</td>\n",
              "      <td>PerijÃÂÃÂ¡_tapaculo</td>\n",
              "      <td>The Perij? tapaculo (Scytalopus perijanus) is ...</td>\n",
              "      <td>The Perij? tapaculo (Scytalopus perijanus) is ...</td>\n",
              "      <td>['Alexander Cort?s Diago', \"American Ornitholo...</td>\n",
              "      <td>7</td>\n",
              "      <td>['Articles containing video clips', \"Articles ...</td>\n",
              "      <td>FA</td>\n",
              "    </tr>\n",
              "    <tr>\n",
              "      <th>9739</th>\n",
              "      <td>Albert Ket?lbey</td>\n",
              "      <td>Albert_KetÃÂ¨lbey</td>\n",
              "      <td>Albert William Ket?lbey (; born Ketelbey; 9 Au...</td>\n",
              "      <td>Albert William Ket?lbey (; born Ketelbey; 9 Au...</td>\n",
              "      <td>['Adelphi Theatre', 'Alfred R. Gaul', 'Alice i...</td>\n",
              "      <td>5</td>\n",
              "      <td>['1875 births', '1959 deaths', '19th-century B...</td>\n",
              "      <td>FA</td>\n",
              "    </tr>\n",
              "    <tr>\n",
              "      <th>9740</th>\n",
              "      <td>Perij? tapaculo</td>\n",
              "      <td>PerijÃÂ¡_tapaculo</td>\n",
              "      <td>The Perij? tapaculo (Scytalopus perijanus) is ...</td>\n",
              "      <td>The Perij? tapaculo (Scytalopus perijanus) is ...</td>\n",
              "      <td>['Alexander Cort?s Diago', \"American Ornitholo...</td>\n",
              "      <td>7</td>\n",
              "      <td>['Articles containing video clips', \"Articles ...</td>\n",
              "      <td>FA</td>\n",
              "    </tr>\n",
              "    <tr>\n",
              "      <th>9741</th>\n",
              "      <td>Perij? tapaculo</td>\n",
              "      <td>PerijÃ¡_tapaculo</td>\n",
              "      <td>The Perij? tapaculo (Scytalopus perijanus) is ...</td>\n",
              "      <td>The Perij? tapaculo (Scytalopus perijanus) is ...</td>\n",
              "      <td>['Alexander Cort?s Diago', \"American Ornitholo...</td>\n",
              "      <td>7</td>\n",
              "      <td>['Articles containing video clips', \"Articles ...</td>\n",
              "      <td>FA</td>\n",
              "    </tr>\n",
              "    <tr>\n",
              "      <th>9742</th>\n",
              "      <td>Perij? tapaculo</td>\n",
              "      <td>Perijá_tapaculo</td>\n",
              "      <td>The Perij? tapaculo (Scytalopus perijanus) is ...</td>\n",
              "      <td>The Perij? tapaculo (Scytalopus perijanus) is ...</td>\n",
              "      <td>['Alexander Cort?s Diago', \"American Ornitholo...</td>\n",
              "      <td>7</td>\n",
              "      <td>['Articles containing video clips', \"Articles ...</td>\n",
              "      <td>FA</td>\n",
              "    </tr>\n",
              "  </tbody>\n",
              "</table>\n",
              "<p>6526 rows × 8 columns</p>\n",
              "</div>\n",
              "      <button class=\"colab-df-convert\" onclick=\"convertToInteractive('df-acd189db-4e77-4ffc-a8e7-aadec39a3c82')\"\n",
              "              title=\"Convert this dataframe to an interactive table.\"\n",
              "              style=\"display:none;\">\n",
              "        \n",
              "  <svg xmlns=\"http://www.w3.org/2000/svg\" height=\"24px\"viewBox=\"0 0 24 24\"\n",
              "       width=\"24px\">\n",
              "    <path d=\"M0 0h24v24H0V0z\" fill=\"none\"/>\n",
              "    <path d=\"M18.56 5.44l.94 2.06.94-2.06 2.06-.94-2.06-.94-.94-2.06-.94 2.06-2.06.94zm-11 1L8.5 8.5l.94-2.06 2.06-.94-2.06-.94L8.5 2.5l-.94 2.06-2.06.94zm10 10l.94 2.06.94-2.06 2.06-.94-2.06-.94-.94-2.06-.94 2.06-2.06.94z\"/><path d=\"M17.41 7.96l-1.37-1.37c-.4-.4-.92-.59-1.43-.59-.52 0-1.04.2-1.43.59L10.3 9.45l-7.72 7.72c-.78.78-.78 2.05 0 2.83L4 21.41c.39.39.9.59 1.41.59.51 0 1.02-.2 1.41-.59l7.78-7.78 2.81-2.81c.8-.78.8-2.07 0-2.86zM5.41 20L4 18.59l7.72-7.72 1.47 1.35L5.41 20z\"/>\n",
              "  </svg>\n",
              "      </button>\n",
              "      \n",
              "  <style>\n",
              "    .colab-df-container {\n",
              "      display:flex;\n",
              "      flex-wrap:wrap;\n",
              "      gap: 12px;\n",
              "    }\n",
              "\n",
              "    .colab-df-convert {\n",
              "      background-color: #E8F0FE;\n",
              "      border: none;\n",
              "      border-radius: 50%;\n",
              "      cursor: pointer;\n",
              "      display: none;\n",
              "      fill: #1967D2;\n",
              "      height: 32px;\n",
              "      padding: 0 0 0 0;\n",
              "      width: 32px;\n",
              "    }\n",
              "\n",
              "    .colab-df-convert:hover {\n",
              "      background-color: #E2EBFA;\n",
              "      box-shadow: 0px 1px 2px rgba(60, 64, 67, 0.3), 0px 1px 3px 1px rgba(60, 64, 67, 0.15);\n",
              "      fill: #174EA6;\n",
              "    }\n",
              "\n",
              "    [theme=dark] .colab-df-convert {\n",
              "      background-color: #3B4455;\n",
              "      fill: #D2E3FC;\n",
              "    }\n",
              "\n",
              "    [theme=dark] .colab-df-convert:hover {\n",
              "      background-color: #434B5C;\n",
              "      box-shadow: 0px 1px 3px 1px rgba(0, 0, 0, 0.15);\n",
              "      filter: drop-shadow(0px 1px 2px rgba(0, 0, 0, 0.3));\n",
              "      fill: #FFFFFF;\n",
              "    }\n",
              "  </style>\n",
              "\n",
              "      <script>\n",
              "        const buttonEl =\n",
              "          document.querySelector('#df-acd189db-4e77-4ffc-a8e7-aadec39a3c82 button.colab-df-convert');\n",
              "        buttonEl.style.display =\n",
              "          google.colab.kernel.accessAllowed ? 'block' : 'none';\n",
              "\n",
              "        async function convertToInteractive(key) {\n",
              "          const element = document.querySelector('#df-acd189db-4e77-4ffc-a8e7-aadec39a3c82');\n",
              "          const dataTable =\n",
              "            await google.colab.kernel.invokeFunction('convertToInteractive',\n",
              "                                                     [key], {});\n",
              "          if (!dataTable) return;\n",
              "\n",
              "          const docLinkHtml = 'Like what you see? Visit the ' +\n",
              "            '<a target=\"_blank\" href=https://colab.research.google.com/notebooks/data_table.ipynb>data table notebook</a>'\n",
              "            + ' to learn more about interactive tables.';\n",
              "          element.innerHTML = '';\n",
              "          dataTable['output_type'] = 'display_data';\n",
              "          await google.colab.output.renderOutput(dataTable, element);\n",
              "          const docLink = document.createElement('div');\n",
              "          docLink.innerHTML = docLinkHtml;\n",
              "          element.appendChild(docLink);\n",
              "        }\n",
              "      </script>\n",
              "    </div>\n",
              "  </div>\n",
              "  "
            ]
          },
          "metadata": {},
          "execution_count": 57
        }
      ],
      "source": [
        "df.drop_duplicates()"
      ]
    },
    {
      "cell_type": "code",
      "source": [
        "df.isnull().sum()"
      ],
      "metadata": {
        "colab": {
          "base_uri": "https://localhost:8080/"
        },
        "id": "14RjMOXvWpYC",
        "outputId": "28c369f6-3f79-4c12-95a7-ae152d8cd321"
      },
      "execution_count": 58,
      "outputs": [
        {
          "output_type": "execute_result",
          "data": {
            "text/plain": [
              "Title             0\n",
              "Article Name      0\n",
              "Summary         399\n",
              "Full Text       399\n",
              "Links             0\n",
              "Sections          0\n",
              "Categories        0\n",
              "Class             0\n",
              "dtype: int64"
            ]
          },
          "metadata": {},
          "execution_count": 58
        }
      ]
    },
    {
      "cell_type": "code",
      "source": [
        "df.rename(\n",
        "    columns=({ 'Full Text': 'Full_Text'}), \n",
        "    inplace=True,)\n"
      ],
      "metadata": {
        "id": "6VzYbhwNZ-Ii"
      },
      "execution_count": 59,
      "outputs": []
    },
    {
      "cell_type": "code",
      "source": [
        "df.dtypes"
      ],
      "metadata": {
        "colab": {
          "base_uri": "https://localhost:8080/"
        },
        "id": "wt33xYAvc_hr",
        "outputId": "7dda76f3-6d22-4098-efe7-106bcd5acdce"
      },
      "execution_count": 60,
      "outputs": [
        {
          "output_type": "execute_result",
          "data": {
            "text/plain": [
              "Title           object\n",
              "Article Name    object\n",
              "Summary         object\n",
              "Full_Text       object\n",
              "Links           object\n",
              "Sections        object\n",
              "Categories      object\n",
              "Class           object\n",
              "dtype: object"
            ]
          },
          "metadata": {},
          "execution_count": 60
        }
      ]
    },
    {
      "cell_type": "markdown",
      "source": [
        "**As Sections coulmn is object type we need convert it in int**"
      ],
      "metadata": {
        "id": "_GHn0kwxdVZo"
      }
    },
    {
      "cell_type": "code",
      "source": [
        "df['Sections'] = pd.to_numeric(df['Sections'], errors='coerce').fillna(0).astype(int)\n",
        "\n"
      ],
      "metadata": {
        "id": "lZmIu_-hdgRE"
      },
      "execution_count": 62,
      "outputs": []
    },
    {
      "cell_type": "markdown",
      "source": [
        "#**2.Encoding**"
      ],
      "metadata": {
        "id": "Kzu65ViTYWs3"
      }
    },
    {
      "cell_type": "markdown",
      "source": [
        "**1. Tried to check Title and Article name present in Full Text or not but getting out 1 or o by adjusting threshhold so i decided to remove columns as they are not helful**"
      ],
      "metadata": {
        "id": "vH8Dh1zOYfQF"
      }
    },
    {
      "cell_type": "code",
      "source": [
        "df.drop(['Title','Article Name'],inplace=True,axis=1)"
      ],
      "metadata": {
        "id": "3F3lGcs5YeYo"
      },
      "execution_count": 67,
      "outputs": []
    },
    {
      "cell_type": "code",
      "source": [
        "df"
      ],
      "metadata": {
        "colab": {
          "base_uri": "https://localhost:8080/",
          "height": 423
        },
        "id": "0dbvUdFLaBTz",
        "outputId": "d1d3d356-9c62-4ca4-df3a-7a630ff0f97c"
      },
      "execution_count": 68,
      "outputs": [
        {
          "output_type": "execute_result",
          "data": {
            "text/plain": [
              "                                                Summary  \\\n",
              "1     Emeka Jude Ugali (born 28 May 1982) is a retir...   \n",
              "3     Tareq wa Shireen (Arabic: ???? ? ?????) is one...   \n",
              "4     Coco is a 2009 French comedy film written, dir...   \n",
              "5     Nicol?s Italo Lombardo, also known as Nicola I...   \n",
              "6     Shuriken Sentai Ninninger (????????????, Shuri...   \n",
              "...                                                 ...   \n",
              "9738  The Perij? tapaculo (Scytalopus perijanus) is ...   \n",
              "9739  Albert William Ket?lbey (; born Ketelbey; 9 Au...   \n",
              "9740  The Perij? tapaculo (Scytalopus perijanus) is ...   \n",
              "9741  The Perij? tapaculo (Scytalopus perijanus) is ...   \n",
              "9742  The Perij? tapaculo (Scytalopus perijanus) is ...   \n",
              "\n",
              "                                              Full_Text  \\\n",
              "1     Emeka Jude Ugali (born 28 May 1982) is a retir...   \n",
              "3     Tareq wa Shireen (Arabic: ???? ? ?????) is one...   \n",
              "4     Coco is a 2009 French comedy film written, dir...   \n",
              "5     Nicol?s Italo Lombardo, also known as Nicola I...   \n",
              "6     Shuriken Sentai Ninninger (????????????, Shuri...   \n",
              "...                                                 ...   \n",
              "9738  The Perij? tapaculo (Scytalopus perijanus) is ...   \n",
              "9739  Albert William Ket?lbey (; born Ketelbey; 9 Au...   \n",
              "9740  The Perij? tapaculo (Scytalopus perijanus) is ...   \n",
              "9741  The Perij? tapaculo (Scytalopus perijanus) is ...   \n",
              "9742  The Perij? tapaculo (Scytalopus perijanus) is ...   \n",
              "\n",
              "                                                  Links  Sections  \\\n",
              "1     ['A.C. Monza', 'A.C. Monza Brianza 1912', 'Der...         2   \n",
              "3     ['Animation', 'Arabic', 'Arabic heritage', 'Ar...         4   \n",
              "4     ['Alain Goldman', 'Ary Abittan', 'Bar mitzvah'...         4   \n",
              "5     ['A.C. Pisa 1909 S.S.D.', 'A.S. Roma', 'Agust?...         0   \n",
              "6     ['Action fiction', 'Amazon Riders', 'Atsushi M...        11   \n",
              "...                                                 ...       ...   \n",
              "9738  ['Alexander Cort?s Diago', \"American Ornitholo...         7   \n",
              "9739  ['Adelphi Theatre', 'Alfred R. Gaul', 'Alice i...         5   \n",
              "9740  ['Alexander Cort?s Diago', \"American Ornitholo...         7   \n",
              "9741  ['Alexander Cort?s Diago', \"American Ornitholo...         7   \n",
              "9742  ['Alexander Cort?s Diago', \"American Ornitholo...         7   \n",
              "\n",
              "                                             Categories  Class  \n",
              "1     ['1982 births', 'A.C. Monza players', 'All art...  Start  \n",
              "3     ['2000s Jordanian television series', '2000s a...   Stub  \n",
              "4     ['2000s French-language films', '2000s French ...   Stub  \n",
              "5     ['1903 births', 'A.S. Roma players', 'All stub...   Stub  \n",
              "6     ['2015 Japanese television series debuts', '20...  Start  \n",
              "...                                                 ...    ...  \n",
              "9738  ['Articles containing video clips', \"Articles ...     FA  \n",
              "9739  ['1875 births', '1959 deaths', '19th-century B...     FA  \n",
              "9740  ['Articles containing video clips', \"Articles ...     FA  \n",
              "9741  ['Articles containing video clips', \"Articles ...     FA  \n",
              "9742  ['Articles containing video clips', \"Articles ...     FA  \n",
              "\n",
              "[6568 rows x 6 columns]"
            ],
            "text/html": [
              "\n",
              "  <div id=\"df-979cb40f-654a-422a-b9f6-d05db33f37c9\">\n",
              "    <div class=\"colab-df-container\">\n",
              "      <div>\n",
              "<style scoped>\n",
              "    .dataframe tbody tr th:only-of-type {\n",
              "        vertical-align: middle;\n",
              "    }\n",
              "\n",
              "    .dataframe tbody tr th {\n",
              "        vertical-align: top;\n",
              "    }\n",
              "\n",
              "    .dataframe thead th {\n",
              "        text-align: right;\n",
              "    }\n",
              "</style>\n",
              "<table border=\"1\" class=\"dataframe\">\n",
              "  <thead>\n",
              "    <tr style=\"text-align: right;\">\n",
              "      <th></th>\n",
              "      <th>Summary</th>\n",
              "      <th>Full_Text</th>\n",
              "      <th>Links</th>\n",
              "      <th>Sections</th>\n",
              "      <th>Categories</th>\n",
              "      <th>Class</th>\n",
              "    </tr>\n",
              "  </thead>\n",
              "  <tbody>\n",
              "    <tr>\n",
              "      <th>1</th>\n",
              "      <td>Emeka Jude Ugali (born 28 May 1982) is a retir...</td>\n",
              "      <td>Emeka Jude Ugali (born 28 May 1982) is a retir...</td>\n",
              "      <td>['A.C. Monza', 'A.C. Monza Brianza 1912', 'Der...</td>\n",
              "      <td>2</td>\n",
              "      <td>['1982 births', 'A.C. Monza players', 'All art...</td>\n",
              "      <td>Start</td>\n",
              "    </tr>\n",
              "    <tr>\n",
              "      <th>3</th>\n",
              "      <td>Tareq wa Shireen (Arabic: ???? ? ?????) is one...</td>\n",
              "      <td>Tareq wa Shireen (Arabic: ???? ? ?????) is one...</td>\n",
              "      <td>['Animation', 'Arabic', 'Arabic heritage', 'Ar...</td>\n",
              "      <td>4</td>\n",
              "      <td>['2000s Jordanian television series', '2000s a...</td>\n",
              "      <td>Stub</td>\n",
              "    </tr>\n",
              "    <tr>\n",
              "      <th>4</th>\n",
              "      <td>Coco is a 2009 French comedy film written, dir...</td>\n",
              "      <td>Coco is a 2009 French comedy film written, dir...</td>\n",
              "      <td>['Alain Goldman', 'Ary Abittan', 'Bar mitzvah'...</td>\n",
              "      <td>4</td>\n",
              "      <td>['2000s French-language films', '2000s French ...</td>\n",
              "      <td>Stub</td>\n",
              "    </tr>\n",
              "    <tr>\n",
              "      <th>5</th>\n",
              "      <td>Nicol?s Italo Lombardo, also known as Nicola I...</td>\n",
              "      <td>Nicol?s Italo Lombardo, also known as Nicola I...</td>\n",
              "      <td>['A.C. Pisa 1909 S.S.D.', 'A.S. Roma', 'Agust?...</td>\n",
              "      <td>0</td>\n",
              "      <td>['1903 births', 'A.S. Roma players', 'All stub...</td>\n",
              "      <td>Stub</td>\n",
              "    </tr>\n",
              "    <tr>\n",
              "      <th>6</th>\n",
              "      <td>Shuriken Sentai Ninninger (????????????, Shuri...</td>\n",
              "      <td>Shuriken Sentai Ninninger (????????????, Shuri...</td>\n",
              "      <td>['Action fiction', 'Amazon Riders', 'Atsushi M...</td>\n",
              "      <td>11</td>\n",
              "      <td>['2015 Japanese television series debuts', '20...</td>\n",
              "      <td>Start</td>\n",
              "    </tr>\n",
              "    <tr>\n",
              "      <th>...</th>\n",
              "      <td>...</td>\n",
              "      <td>...</td>\n",
              "      <td>...</td>\n",
              "      <td>...</td>\n",
              "      <td>...</td>\n",
              "      <td>...</td>\n",
              "    </tr>\n",
              "    <tr>\n",
              "      <th>9738</th>\n",
              "      <td>The Perij? tapaculo (Scytalopus perijanus) is ...</td>\n",
              "      <td>The Perij? tapaculo (Scytalopus perijanus) is ...</td>\n",
              "      <td>['Alexander Cort?s Diago', \"American Ornitholo...</td>\n",
              "      <td>7</td>\n",
              "      <td>['Articles containing video clips', \"Articles ...</td>\n",
              "      <td>FA</td>\n",
              "    </tr>\n",
              "    <tr>\n",
              "      <th>9739</th>\n",
              "      <td>Albert William Ket?lbey (; born Ketelbey; 9 Au...</td>\n",
              "      <td>Albert William Ket?lbey (; born Ketelbey; 9 Au...</td>\n",
              "      <td>['Adelphi Theatre', 'Alfred R. Gaul', 'Alice i...</td>\n",
              "      <td>5</td>\n",
              "      <td>['1875 births', '1959 deaths', '19th-century B...</td>\n",
              "      <td>FA</td>\n",
              "    </tr>\n",
              "    <tr>\n",
              "      <th>9740</th>\n",
              "      <td>The Perij? tapaculo (Scytalopus perijanus) is ...</td>\n",
              "      <td>The Perij? tapaculo (Scytalopus perijanus) is ...</td>\n",
              "      <td>['Alexander Cort?s Diago', \"American Ornitholo...</td>\n",
              "      <td>7</td>\n",
              "      <td>['Articles containing video clips', \"Articles ...</td>\n",
              "      <td>FA</td>\n",
              "    </tr>\n",
              "    <tr>\n",
              "      <th>9741</th>\n",
              "      <td>The Perij? tapaculo (Scytalopus perijanus) is ...</td>\n",
              "      <td>The Perij? tapaculo (Scytalopus perijanus) is ...</td>\n",
              "      <td>['Alexander Cort?s Diago', \"American Ornitholo...</td>\n",
              "      <td>7</td>\n",
              "      <td>['Articles containing video clips', \"Articles ...</td>\n",
              "      <td>FA</td>\n",
              "    </tr>\n",
              "    <tr>\n",
              "      <th>9742</th>\n",
              "      <td>The Perij? tapaculo (Scytalopus perijanus) is ...</td>\n",
              "      <td>The Perij? tapaculo (Scytalopus perijanus) is ...</td>\n",
              "      <td>['Alexander Cort?s Diago', \"American Ornitholo...</td>\n",
              "      <td>7</td>\n",
              "      <td>['Articles containing video clips', \"Articles ...</td>\n",
              "      <td>FA</td>\n",
              "    </tr>\n",
              "  </tbody>\n",
              "</table>\n",
              "<p>6568 rows × 6 columns</p>\n",
              "</div>\n",
              "      <button class=\"colab-df-convert\" onclick=\"convertToInteractive('df-979cb40f-654a-422a-b9f6-d05db33f37c9')\"\n",
              "              title=\"Convert this dataframe to an interactive table.\"\n",
              "              style=\"display:none;\">\n",
              "        \n",
              "  <svg xmlns=\"http://www.w3.org/2000/svg\" height=\"24px\"viewBox=\"0 0 24 24\"\n",
              "       width=\"24px\">\n",
              "    <path d=\"M0 0h24v24H0V0z\" fill=\"none\"/>\n",
              "    <path d=\"M18.56 5.44l.94 2.06.94-2.06 2.06-.94-2.06-.94-.94-2.06-.94 2.06-2.06.94zm-11 1L8.5 8.5l.94-2.06 2.06-.94-2.06-.94L8.5 2.5l-.94 2.06-2.06.94zm10 10l.94 2.06.94-2.06 2.06-.94-2.06-.94-.94-2.06-.94 2.06-2.06.94z\"/><path d=\"M17.41 7.96l-1.37-1.37c-.4-.4-.92-.59-1.43-.59-.52 0-1.04.2-1.43.59L10.3 9.45l-7.72 7.72c-.78.78-.78 2.05 0 2.83L4 21.41c.39.39.9.59 1.41.59.51 0 1.02-.2 1.41-.59l7.78-7.78 2.81-2.81c.8-.78.8-2.07 0-2.86zM5.41 20L4 18.59l7.72-7.72 1.47 1.35L5.41 20z\"/>\n",
              "  </svg>\n",
              "      </button>\n",
              "      \n",
              "  <style>\n",
              "    .colab-df-container {\n",
              "      display:flex;\n",
              "      flex-wrap:wrap;\n",
              "      gap: 12px;\n",
              "    }\n",
              "\n",
              "    .colab-df-convert {\n",
              "      background-color: #E8F0FE;\n",
              "      border: none;\n",
              "      border-radius: 50%;\n",
              "      cursor: pointer;\n",
              "      display: none;\n",
              "      fill: #1967D2;\n",
              "      height: 32px;\n",
              "      padding: 0 0 0 0;\n",
              "      width: 32px;\n",
              "    }\n",
              "\n",
              "    .colab-df-convert:hover {\n",
              "      background-color: #E2EBFA;\n",
              "      box-shadow: 0px 1px 2px rgba(60, 64, 67, 0.3), 0px 1px 3px 1px rgba(60, 64, 67, 0.15);\n",
              "      fill: #174EA6;\n",
              "    }\n",
              "\n",
              "    [theme=dark] .colab-df-convert {\n",
              "      background-color: #3B4455;\n",
              "      fill: #D2E3FC;\n",
              "    }\n",
              "\n",
              "    [theme=dark] .colab-df-convert:hover {\n",
              "      background-color: #434B5C;\n",
              "      box-shadow: 0px 1px 3px 1px rgba(0, 0, 0, 0.15);\n",
              "      filter: drop-shadow(0px 1px 2px rgba(0, 0, 0, 0.3));\n",
              "      fill: #FFFFFF;\n",
              "    }\n",
              "  </style>\n",
              "\n",
              "      <script>\n",
              "        const buttonEl =\n",
              "          document.querySelector('#df-979cb40f-654a-422a-b9f6-d05db33f37c9 button.colab-df-convert');\n",
              "        buttonEl.style.display =\n",
              "          google.colab.kernel.accessAllowed ? 'block' : 'none';\n",
              "\n",
              "        async function convertToInteractive(key) {\n",
              "          const element = document.querySelector('#df-979cb40f-654a-422a-b9f6-d05db33f37c9');\n",
              "          const dataTable =\n",
              "            await google.colab.kernel.invokeFunction('convertToInteractive',\n",
              "                                                     [key], {});\n",
              "          if (!dataTable) return;\n",
              "\n",
              "          const docLinkHtml = 'Like what you see? Visit the ' +\n",
              "            '<a target=\"_blank\" href=https://colab.research.google.com/notebooks/data_table.ipynb>data table notebook</a>'\n",
              "            + ' to learn more about interactive tables.';\n",
              "          element.innerHTML = '';\n",
              "          dataTable['output_type'] = 'display_data';\n",
              "          await google.colab.output.renderOutput(dataTable, element);\n",
              "          const docLink = document.createElement('div');\n",
              "          docLink.innerHTML = docLinkHtml;\n",
              "          element.appendChild(docLink);\n",
              "        }\n",
              "      </script>\n",
              "    </div>\n",
              "  </div>\n",
              "  "
            ]
          },
          "metadata": {},
          "execution_count": 68
        }
      ]
    },
    {
      "cell_type": "markdown",
      "source": [
        "**2.As Summary and Full Text are two coluns are text detaset we are coverting it into length of text**"
      ],
      "metadata": {
        "id": "blPQmIlIZct7"
      }
    },
    {
      "cell_type": "code",
      "source": [
        "df['Summary_Length'] = df['Summary'].str.len()\n",
        "df['Full_Text_Length'] = df['Full_Text'].str.len()\n",
        "df.drop(['Full_Text','Summary'],inplace=True,axis=1)\n"
      ],
      "metadata": {
        "id": "BKe4yOHbZYzd"
      },
      "execution_count": 69,
      "outputs": []
    },
    {
      "cell_type": "markdown",
      "source": [
        "**3.As Links column contains number of links in string format seperated by columns we are going to count it and put count in new column**"
      ],
      "metadata": {
        "id": "lRRjIVP6cScG"
      }
    },
    {
      "cell_type": "code",
      "source": [
        "df['Links_Count'] = df['Links'].str.count(',') + 1\n",
        "df.drop('Links',inplace=True,axis=1)"
      ],
      "metadata": {
        "id": "OzJvT2CRbNwL"
      },
      "execution_count": 70,
      "outputs": []
    },
    {
      "cell_type": "markdown",
      "source": [
        "**3.As Categories column contains number of Categories in string format seperated by columns we are going to count it and put count in new column Categories_count**"
      ],
      "metadata": {
        "id": "E4va0DEtcv2q"
      }
    },
    {
      "cell_type": "code",
      "source": [
        "df['Categories_count'] = df['Categories'].str.count(',') + 1\n",
        "df.drop('Categories',inplace=True,axis=1)\n",
        "df"
      ],
      "metadata": {
        "colab": {
          "base_uri": "https://localhost:8080/",
          "height": 423
        },
        "id": "oLVN8u2Ib_jl",
        "outputId": "3b664772-b8c7-4090-c81e-184fa664d3b3"
      },
      "execution_count": 71,
      "outputs": [
        {
          "output_type": "execute_result",
          "data": {
            "text/plain": [
              "      Sections  Class  Summary_Length  Full_Text_Length  Links_Count  \\\n",
              "1            2  Start            75.0            1752.0           28   \n",
              "3            4   Stub           391.0             956.0           16   \n",
              "4            4   Stub           514.0             948.0           32   \n",
              "5            0   Stub           293.0             293.0           81   \n",
              "6           11  Start          1128.0           11978.0          163   \n",
              "...        ...    ...             ...               ...          ...   \n",
              "9738         7     FA          1110.0            9698.0           91   \n",
              "9739         5     FA          2486.0           32935.0          195   \n",
              "9740         7     FA          1110.0            9698.0           91   \n",
              "9741         7     FA          1110.0            9698.0           91   \n",
              "9742         7     FA          1110.0            9698.0           91   \n",
              "\n",
              "      Categories_count  \n",
              "1                   24  \n",
              "3                   12  \n",
              "4                   12  \n",
              "5                   20  \n",
              "6                   12  \n",
              "...                ...  \n",
              "9738                12  \n",
              "9739                64  \n",
              "9740                12  \n",
              "9741                12  \n",
              "9742                12  \n",
              "\n",
              "[6568 rows x 6 columns]"
            ],
            "text/html": [
              "\n",
              "  <div id=\"df-a877eb37-8dc5-4253-876b-77fa40392b34\">\n",
              "    <div class=\"colab-df-container\">\n",
              "      <div>\n",
              "<style scoped>\n",
              "    .dataframe tbody tr th:only-of-type {\n",
              "        vertical-align: middle;\n",
              "    }\n",
              "\n",
              "    .dataframe tbody tr th {\n",
              "        vertical-align: top;\n",
              "    }\n",
              "\n",
              "    .dataframe thead th {\n",
              "        text-align: right;\n",
              "    }\n",
              "</style>\n",
              "<table border=\"1\" class=\"dataframe\">\n",
              "  <thead>\n",
              "    <tr style=\"text-align: right;\">\n",
              "      <th></th>\n",
              "      <th>Sections</th>\n",
              "      <th>Class</th>\n",
              "      <th>Summary_Length</th>\n",
              "      <th>Full_Text_Length</th>\n",
              "      <th>Links_Count</th>\n",
              "      <th>Categories_count</th>\n",
              "    </tr>\n",
              "  </thead>\n",
              "  <tbody>\n",
              "    <tr>\n",
              "      <th>1</th>\n",
              "      <td>2</td>\n",
              "      <td>Start</td>\n",
              "      <td>75.0</td>\n",
              "      <td>1752.0</td>\n",
              "      <td>28</td>\n",
              "      <td>24</td>\n",
              "    </tr>\n",
              "    <tr>\n",
              "      <th>3</th>\n",
              "      <td>4</td>\n",
              "      <td>Stub</td>\n",
              "      <td>391.0</td>\n",
              "      <td>956.0</td>\n",
              "      <td>16</td>\n",
              "      <td>12</td>\n",
              "    </tr>\n",
              "    <tr>\n",
              "      <th>4</th>\n",
              "      <td>4</td>\n",
              "      <td>Stub</td>\n",
              "      <td>514.0</td>\n",
              "      <td>948.0</td>\n",
              "      <td>32</td>\n",
              "      <td>12</td>\n",
              "    </tr>\n",
              "    <tr>\n",
              "      <th>5</th>\n",
              "      <td>0</td>\n",
              "      <td>Stub</td>\n",
              "      <td>293.0</td>\n",
              "      <td>293.0</td>\n",
              "      <td>81</td>\n",
              "      <td>20</td>\n",
              "    </tr>\n",
              "    <tr>\n",
              "      <th>6</th>\n",
              "      <td>11</td>\n",
              "      <td>Start</td>\n",
              "      <td>1128.0</td>\n",
              "      <td>11978.0</td>\n",
              "      <td>163</td>\n",
              "      <td>12</td>\n",
              "    </tr>\n",
              "    <tr>\n",
              "      <th>...</th>\n",
              "      <td>...</td>\n",
              "      <td>...</td>\n",
              "      <td>...</td>\n",
              "      <td>...</td>\n",
              "      <td>...</td>\n",
              "      <td>...</td>\n",
              "    </tr>\n",
              "    <tr>\n",
              "      <th>9738</th>\n",
              "      <td>7</td>\n",
              "      <td>FA</td>\n",
              "      <td>1110.0</td>\n",
              "      <td>9698.0</td>\n",
              "      <td>91</td>\n",
              "      <td>12</td>\n",
              "    </tr>\n",
              "    <tr>\n",
              "      <th>9739</th>\n",
              "      <td>5</td>\n",
              "      <td>FA</td>\n",
              "      <td>2486.0</td>\n",
              "      <td>32935.0</td>\n",
              "      <td>195</td>\n",
              "      <td>64</td>\n",
              "    </tr>\n",
              "    <tr>\n",
              "      <th>9740</th>\n",
              "      <td>7</td>\n",
              "      <td>FA</td>\n",
              "      <td>1110.0</td>\n",
              "      <td>9698.0</td>\n",
              "      <td>91</td>\n",
              "      <td>12</td>\n",
              "    </tr>\n",
              "    <tr>\n",
              "      <th>9741</th>\n",
              "      <td>7</td>\n",
              "      <td>FA</td>\n",
              "      <td>1110.0</td>\n",
              "      <td>9698.0</td>\n",
              "      <td>91</td>\n",
              "      <td>12</td>\n",
              "    </tr>\n",
              "    <tr>\n",
              "      <th>9742</th>\n",
              "      <td>7</td>\n",
              "      <td>FA</td>\n",
              "      <td>1110.0</td>\n",
              "      <td>9698.0</td>\n",
              "      <td>91</td>\n",
              "      <td>12</td>\n",
              "    </tr>\n",
              "  </tbody>\n",
              "</table>\n",
              "<p>6568 rows × 6 columns</p>\n",
              "</div>\n",
              "      <button class=\"colab-df-convert\" onclick=\"convertToInteractive('df-a877eb37-8dc5-4253-876b-77fa40392b34')\"\n",
              "              title=\"Convert this dataframe to an interactive table.\"\n",
              "              style=\"display:none;\">\n",
              "        \n",
              "  <svg xmlns=\"http://www.w3.org/2000/svg\" height=\"24px\"viewBox=\"0 0 24 24\"\n",
              "       width=\"24px\">\n",
              "    <path d=\"M0 0h24v24H0V0z\" fill=\"none\"/>\n",
              "    <path d=\"M18.56 5.44l.94 2.06.94-2.06 2.06-.94-2.06-.94-.94-2.06-.94 2.06-2.06.94zm-11 1L8.5 8.5l.94-2.06 2.06-.94-2.06-.94L8.5 2.5l-.94 2.06-2.06.94zm10 10l.94 2.06.94-2.06 2.06-.94-2.06-.94-.94-2.06-.94 2.06-2.06.94z\"/><path d=\"M17.41 7.96l-1.37-1.37c-.4-.4-.92-.59-1.43-.59-.52 0-1.04.2-1.43.59L10.3 9.45l-7.72 7.72c-.78.78-.78 2.05 0 2.83L4 21.41c.39.39.9.59 1.41.59.51 0 1.02-.2 1.41-.59l7.78-7.78 2.81-2.81c.8-.78.8-2.07 0-2.86zM5.41 20L4 18.59l7.72-7.72 1.47 1.35L5.41 20z\"/>\n",
              "  </svg>\n",
              "      </button>\n",
              "      \n",
              "  <style>\n",
              "    .colab-df-container {\n",
              "      display:flex;\n",
              "      flex-wrap:wrap;\n",
              "      gap: 12px;\n",
              "    }\n",
              "\n",
              "    .colab-df-convert {\n",
              "      background-color: #E8F0FE;\n",
              "      border: none;\n",
              "      border-radius: 50%;\n",
              "      cursor: pointer;\n",
              "      display: none;\n",
              "      fill: #1967D2;\n",
              "      height: 32px;\n",
              "      padding: 0 0 0 0;\n",
              "      width: 32px;\n",
              "    }\n",
              "\n",
              "    .colab-df-convert:hover {\n",
              "      background-color: #E2EBFA;\n",
              "      box-shadow: 0px 1px 2px rgba(60, 64, 67, 0.3), 0px 1px 3px 1px rgba(60, 64, 67, 0.15);\n",
              "      fill: #174EA6;\n",
              "    }\n",
              "\n",
              "    [theme=dark] .colab-df-convert {\n",
              "      background-color: #3B4455;\n",
              "      fill: #D2E3FC;\n",
              "    }\n",
              "\n",
              "    [theme=dark] .colab-df-convert:hover {\n",
              "      background-color: #434B5C;\n",
              "      box-shadow: 0px 1px 3px 1px rgba(0, 0, 0, 0.15);\n",
              "      filter: drop-shadow(0px 1px 2px rgba(0, 0, 0, 0.3));\n",
              "      fill: #FFFFFF;\n",
              "    }\n",
              "  </style>\n",
              "\n",
              "      <script>\n",
              "        const buttonEl =\n",
              "          document.querySelector('#df-a877eb37-8dc5-4253-876b-77fa40392b34 button.colab-df-convert');\n",
              "        buttonEl.style.display =\n",
              "          google.colab.kernel.accessAllowed ? 'block' : 'none';\n",
              "\n",
              "        async function convertToInteractive(key) {\n",
              "          const element = document.querySelector('#df-a877eb37-8dc5-4253-876b-77fa40392b34');\n",
              "          const dataTable =\n",
              "            await google.colab.kernel.invokeFunction('convertToInteractive',\n",
              "                                                     [key], {});\n",
              "          if (!dataTable) return;\n",
              "\n",
              "          const docLinkHtml = 'Like what you see? Visit the ' +\n",
              "            '<a target=\"_blank\" href=https://colab.research.google.com/notebooks/data_table.ipynb>data table notebook</a>'\n",
              "            + ' to learn more about interactive tables.';\n",
              "          element.innerHTML = '';\n",
              "          dataTable['output_type'] = 'display_data';\n",
              "          await google.colab.output.renderOutput(dataTable, element);\n",
              "          const docLink = document.createElement('div');\n",
              "          docLink.innerHTML = docLinkHtml;\n",
              "          element.appendChild(docLink);\n",
              "        }\n",
              "      </script>\n",
              "    </div>\n",
              "  </div>\n",
              "  "
            ]
          },
          "metadata": {},
          "execution_count": 71
        }
      ]
    },
    {
      "cell_type": "markdown",
      "source": [
        "#**3.EDA**"
      ],
      "metadata": {
        "id": "UeES7I5kWU-Z"
      }
    },
    {
      "cell_type": "code",
      "execution_count": 20,
      "metadata": {
        "colab": {
          "base_uri": "https://localhost:8080/",
          "height": 576
        },
        "id": "uZGwitOW2P0-",
        "outputId": "a130e140-4ada-4adb-fd6b-369979b6d980"
      },
      "outputs": [
        {
          "output_type": "display_data",
          "data": {
            "text/plain": [
              "<Figure size 576x432 with 1 Axes>"
            ],
            "image/png": "[encoded data removed]"
          },
          "metadata": {
            "needs_background": "light"
          }
        }
      ],
      "source": [
        "\n",
        "import pandas as pd\n",
        "import matplotlib.pyplot as plt\n",
        "# Get value counts of 'Class' column\n",
        "class_counts = df['Class'].value_counts()\n",
        "\n",
        "# Calculate percentages\n",
        "total = sum(class_counts)\n",
        "percentages = [(count/total)*100 for count in class_counts]\n",
        "\n",
        "# Plot bar chart\n",
        "plt.figure(figsize=(8,6))\n",
        "ax = class_counts.plot(kind='bar')\n",
        "plt.title('Value counts of Class column')\n",
        "plt.xlabel('Class')\n",
        "plt.ylabel('Count')\n",
        "\n",
        "# Add percentage labels\n",
        "for i, v in enumerate(class_counts):\n",
        "    ax.text(i-0.1, v+5, str(round(percentages[i], 2))+'%', color='black', fontsize=10)\n",
        "\n",
        "plt.show()\n",
        "\n"
      ]
    },
    {
      "cell_type": "code",
      "source": [
        "df.Class.unique()"
      ],
      "metadata": {
        "colab": {
          "base_uri": "https://localhost:8080/"
        },
        "id": "2V_Xbro3eQFH",
        "outputId": "24236275-f7fa-4fa4-c8a5-13f9e32f1efb"
      },
      "execution_count": 73,
      "outputs": [
        {
          "output_type": "execute_result",
          "data": {
            "text/plain": [
              "array(['Start', 'Stub', 'List', 'C', 'B', 'GA', 'FA',\n",
              "       'start}}{{WikiProject Southeast Asia', 'Class'], dtype=object)"
            ]
          },
          "metadata": {},
          "execution_count": 73
        }
      ]
    },
    {
      "cell_type": "code",
      "source": [
        "df['Class_Binary'] = (df['Class'] == 'FA').astype(int)\n",
        "df.drop('Class',inplace=True,axis=1)"
      ],
      "metadata": {
        "id": "HxHg0FxVe8Jg"
      },
      "execution_count": 76,
      "outputs": []
    },
    {
      "cell_type": "markdown",
      "source": [
        "#**4.Split dataset**"
      ],
      "metadata": {
        "id": "C58ycorFftvh"
      }
    },
    {
      "cell_type": "markdown",
      "source": [
        "**split dependent and independent features**"
      ],
      "metadata": {
        "id": "fKmSdzy5gnCp"
      }
    },
    {
      "cell_type": "code",
      "source": [
        "p= df.drop(['Class_Binary'],axis=1)\n",
        "q= df['Class_Binary']\n"
      ],
      "metadata": {
        "id": "Dq_axGmDf26m"
      },
      "execution_count": 77,
      "outputs": []
    },
    {
      "cell_type": "markdown",
      "source": [
        "**Split data into train ad test data**"
      ],
      "metadata": {
        "id": "IlziZKrEgWg2"
      }
    },
    {
      "cell_type": "code",
      "source": [
        "X_train, X_test, y_train, y_test = train_test_split(p, q, test_size=0.33, random_state=42)"
      ],
      "metadata": {
        "id": "I0J5Aj-ygVZh",
        "outputId": "641a542b-f55b-4f7b-f0eb-fd83128e736c",
        "colab": {
          "base_uri": "https://localhost:8080/",
          "height": 171
        }
      },
      "execution_count": 78,
      "outputs": [
        {
          "ename": "NameError",
          "evalue": "ignored",
          "output_type": "error",
          "traceback": [
            "\u001b[0;31m---------------------------------------------------------------------------\u001b[0m",
            "\u001b[0;31mNameError\u001b[0m                                 Traceback (most recent call last)",
            "\u001b[0;32m<ipython-input-78-dea611e03200>\u001b[0m in \u001b[0;36m<module>\u001b[0;34m\u001b[0m\n\u001b[0;32m----> 1\u001b[0;31m \u001b[0mX_train\u001b[0m\u001b[0;34m,\u001b[0m \u001b[0mX_test\u001b[0m\u001b[0;34m,\u001b[0m \u001b[0my_train\u001b[0m\u001b[0;34m,\u001b[0m \u001b[0my_test\u001b[0m \u001b[0;34m=\u001b[0m \u001b[0mtrain_test_split\u001b[0m\u001b[0;34m(\u001b[0m\u001b[0mX\u001b[0m\u001b[0;34m,\u001b[0m \u001b[0my\u001b[0m\u001b[0;34m,\u001b[0m \u001b[0mtest_size\u001b[0m\u001b[0;34m=\u001b[0m\u001b[0;36m0.33\u001b[0m\u001b[0;34m,\u001b[0m \u001b[0mrandom_state\u001b[0m\u001b[0;34m=\u001b[0m\u001b[0;36m42\u001b[0m\u001b[0;34m)\u001b[0m\u001b[0;34m\u001b[0m\u001b[0;34m\u001b[0m\u001b[0m\n\u001b[0m",
            "\u001b[0;31mNameError\u001b[0m: name 'train_test_split' is not defined"
          ]
        }
      ]
    },
    {
      "cell_type": "markdown",
      "source": [
        "**Scalling**"
      ],
      "metadata": {
        "id": "OZCpt-pFg103"
      }
    },
    {
      "cell_type": "code",
      "source": [
        "scaler = StandardScaler()\n",
        "X_train = scaler.fit_transform(X_train)\n",
        "X_test = scaler.transform(X_test)"
      ],
      "metadata": {
        "id": "St7VWyXegy_x"
      },
      "execution_count": null,
      "outputs": []
    },
    {
      "cell_type": "code",
      "source": [],
      "metadata": {
        "id": "270lkjbLg4gS"
      },
      "execution_count": null,
      "outputs": []
    },
    {
      "cell_type": "markdown",
      "source": [
        "#**Models**"
      ],
      "metadata": {
        "id": "aDbVY6B6g8Uf"
      }
    },
    {
      "cell_type": "code",
      "source": [
        "\n",
        "lr_model = LogisticRegression(max_iter=100)\n",
        "lr_model.fit(X_train, y_train)\n",
        "test_predicted=lr_model.predict(X_test)\n",
        "train_predicted=lr_model.predict(X_test)\n",
        "\n",
        "print()\n",
        "print()\n",
        "print (\"The accuracy of Logistic Regression is : \", accuracy_score(y_test, predicted)*100, \"%\")\n",
        "print (\"The accuracy of Logistic Regression is : \", accuracy_score(y_test, predicted)*100, \"%\")\n",
        "print (\"The aurroc_auc_score of Logistic Regression is : \", roc_auc_score(y_test, lr_model.predict_proba(X_test)[:, 1]))\n"
      ],
      "metadata": {
        "id": "bqGoSh5ShCWF"
      },
      "execution_count": null,
      "outputs": []
    }
  ],
  "metadata": {
    "colab": {
      "provenance": [],
      "authorship_tag": "ABX9TyNDAVzX6lAm2FKcLbtfpiBQ",
      "include_colab_link": true
    },
    "kernelspec": {
      "display_name": "Python 3",
      "name": "python3"
    },
    "language_info": {
      "name": "python"
    }
  },
  "nbformat": 4,
  "nbformat_minor": 0
}