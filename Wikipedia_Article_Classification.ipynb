{
  "cells": [
    {
      "cell_type": "markdown",
      "metadata": {
        "id": "view-in-github",
        "colab_type": "text"
      },
      "source": [
        "<a href=\"https://colab.research.google.com/github/Shubh4545/Wikipedia_Article_Classification/blob/main/Wikipedia_Article_Classification.ipynb\" target=\"_parent\"><img src=\"https://colab.research.google.com/assets/colab-badge.svg\" alt=\"Open In Colab\"/></a>"
      ]
    },
    {
      "cell_type": "markdown",
      "metadata": {
        "id": "2RbM7ogPWY3_"
      },
      "source": [
        "#**0.Import Libraries**"
      ]
    },
    {
      "cell_type": "code",
      "source": [
        "\n",
        "import pandas as pd\n",
        "import numpy as np\n",
        "import seaborn as sns \n",
        "import matplotlib.pyplot as plt\n",
        "from sklearn.svm import SVC\n",
        "from sklearn.model_selection import train_test_split\n",
        "\n",
        "from sklearn.preprocessing import StandardScaler \n",
        "from sklearn.preprocessing import LabelEncoder\n",
        "\n",
        "from sklearn.linear_model import LogisticRegression \n",
        "from sklearn.ensemble import RandomForestClassifier\n",
        "import xgboost as xgb\n",
        "from sklearn import tree\n",
        "from sklearn.tree import DecisionTreeClassifier\n",
        "\n",
        "from sklearn.metrics import accuracy_score\n",
        "from sklearn.metrics import roc_auc_score,confusion_matrix\n",
        "\n",
        "from imblearn.combine import SMOTETomek\n",
        "\n",
        "import warnings\n",
        "warnings.filterwarnings(\"ignore\", category=DeprecationWarning)"
      ],
      "metadata": {
        "id": "ASXFAfAWggl3"
      },
      "execution_count": 57,
      "outputs": []
    },
    {
      "cell_type": "code",
      "execution_count": 9,
      "metadata": {
        "colab": {
          "base_uri": "https://localhost:8080/"
        },
        "id": "G1BttgXGWXTq",
        "outputId": "1bc9a7dc-34a0-46c1-9430-90bba2d42fda"
      },
      "outputs": [
        {
          "output_type": "stream",
          "name": "stdout",
          "text": [
            "Looking in indexes: https://pypi.org/simple, https://us-python.pkg.dev/colab-wheels/public/simple/\n",
            "Requirement already satisfied: Wikipedia-API in /usr/local/lib/python3.9/dist-packages (0.5.8)\n",
            "Requirement already satisfied: requests in /usr/local/lib/python3.9/dist-packages (from Wikipedia-API) (2.25.1)\n",
            "Requirement already satisfied: chardet<5,>=3.0.2 in /usr/local/lib/python3.9/dist-packages (from requests->Wikipedia-API) (4.0.0)\n",
            "Requirement already satisfied: idna<3,>=2.5 in /usr/local/lib/python3.9/dist-packages (from requests->Wikipedia-API) (2.10)\n",
            "Requirement already satisfied: certifi>=2017.4.17 in /usr/local/lib/python3.9/dist-packages (from requests->Wikipedia-API) (2022.12.7)\n",
            "Requirement already satisfied: urllib3<1.27,>=1.21.1 in /usr/local/lib/python3.9/dist-packages (from requests->Wikipedia-API) (1.26.15)\n"
          ]
        }
      ],
      "source": [
        "! pip install Wikipedia-API\n",
        "import wikipediaapi\n",
        "import pandas as pd\n",
        "import pandas as pd\n",
        "import wikipediaapi\n",
        "import math\n",
        "import json\n",
        "import os"
      ]
    },
    {
      "cell_type": "code",
      "execution_count": 10,
      "metadata": {
        "colab": {
          "base_uri": "https://localhost:8080/"
        },
        "id": "FbabePRtY3fb",
        "outputId": "d1ba1c7b-9cff-438a-8228-adb4df727b67"
      },
      "outputs": [
        {
          "output_type": "stream",
          "name": "stdout",
          "text": [
            "Drive already mounted at /content/drive; to attempt to forcibly remount, call drive.mount(\"/content/drive\", force_remount=True).\n"
          ]
        }
      ],
      "source": [
        "from google.colab import drive\n",
        "drive.mount('/content/drive')"
      ]
    },
    {
      "cell_type": "markdown",
      "metadata": {
        "id": "NI9PM-vFvdw9"
      },
      "source": [
        "#**1.Clean Dataset**"
      ]
    },
    {
      "cell_type": "code",
      "execution_count": 4,
      "metadata": {
        "id": "taY2h_K7vc6B",
        "colab": {
          "base_uri": "https://localhost:8080/",
          "height": 337
        },
        "outputId": "de89fb04-03b8-4f89-f3da-f4bcbc1b54fe"
      },
      "outputs": [
        {
          "output_type": "execute_result",
          "data": {
            "text/plain": [
              "                         Title  \\\n",
              "0  List of Beast Wars episodes   \n",
              "1             Emeka Jude Ugali   \n",
              "2          N?rnberg Falcons BC   \n",
              "3             Tareq wa Shireen   \n",
              "4             Coco (2009 film)   \n",
              "\n",
              "                                        Article Name  \\\n",
              "0                                     Double_Dinobot   \n",
              "1                                   Emeka_Jude_Ugali   \n",
              "2  NÃÂÃÂÃÂÃÂÃÂÃÂÃÂÃÂÃÂÃÂÃÂÃ...   \n",
              "3                                   Tareq_wa_Shireen   \n",
              "4                                   Coco_(2009_film)   \n",
              "\n",
              "                                             Summary  \\\n",
              "0  The episodes listed below are from the animate...   \n",
              "1  Emeka Jude Ugali (born 28 May 1982) is a retir...   \n",
              "2  N?rnberg Falcons BC, formerly called N?rnberge...   \n",
              "3  Tareq wa Shireen (Arabic: ???? ? ?????) is one...   \n",
              "4  Coco is a 2009 French comedy film written, dir...   \n",
              "\n",
              "                                           Full Text  \\\n",
              "0  The episodes listed below are from the animate...   \n",
              "1  Emeka Jude Ugali (born 28 May 1982) is a retir...   \n",
              "2  N?rnberg Falcons BC, formerly called N?rnberge...   \n",
              "3  Tareq wa Shireen (Arabic: ???? ? ?????) is one...   \n",
              "4  Coco is a 2009 French comedy film written, dir...   \n",
              "\n",
              "                                               Links Sections  \\\n",
              "0  ['Airazor', 'Ark (Transformers)', 'Asaph Fipke...        3   \n",
              "1  ['A.C. Monza', 'A.C. Monza Brianza 1912', 'Der...        2   \n",
              "2  ['2012?13 ProA', '2013?14 ProA', '2014?15 ProA...        5   \n",
              "3  ['Animation', 'Arabic', 'Arabic heritage', 'Ar...        4   \n",
              "4  ['Alain Goldman', 'Ary Abittan', 'Bar mitzvah'...        4   \n",
              "\n",
              "                                          Categories  Class  \n",
              "0  ['All articles lacking sources', 'Articles lac...    NaN  \n",
              "1  ['1982 births', 'A.C. Monza players', 'All art...  Start  \n",
              "2  ['Articles needing translation from German Wik...    NaN  \n",
              "3  ['2000s Jordanian television series', '2000s a...   Stub  \n",
              "4  ['2000s French-language films', '2000s French ...   Stub  "
            ],
            "text/html": [
              "\n",
              "  <div id=\"df-268685a8-edfb-4954-a6eb-21c42f6ac7b9\">\n",
              "    <div class=\"colab-df-container\">\n",
              "      <div>\n",
              "<style scoped>\n",
              "    .dataframe tbody tr th:only-of-type {\n",
              "        vertical-align: middle;\n",
              "    }\n",
              "\n",
              "    .dataframe tbody tr th {\n",
              "        vertical-align: top;\n",
              "    }\n",
              "\n",
              "    .dataframe thead th {\n",
              "        text-align: right;\n",
              "    }\n",
              "</style>\n",
              "<table border=\"1\" class=\"dataframe\">\n",
              "  <thead>\n",
              "    <tr style=\"text-align: right;\">\n",
              "      <th></th>\n",
              "      <th>Title</th>\n",
              "      <th>Article Name</th>\n",
              "      <th>Summary</th>\n",
              "      <th>Full Text</th>\n",
              "      <th>Links</th>\n",
              "      <th>Sections</th>\n",
              "      <th>Categories</th>\n",
              "      <th>Class</th>\n",
              "    </tr>\n",
              "  </thead>\n",
              "  <tbody>\n",
              "    <tr>\n",
              "      <th>0</th>\n",
              "      <td>List of Beast Wars episodes</td>\n",
              "      <td>Double_Dinobot</td>\n",
              "      <td>The episodes listed below are from the animate...</td>\n",
              "      <td>The episodes listed below are from the animate...</td>\n",
              "      <td>['Airazor', 'Ark (Transformers)', 'Asaph Fipke...</td>\n",
              "      <td>3</td>\n",
              "      <td>['All articles lacking sources', 'Articles lac...</td>\n",
              "      <td>NaN</td>\n",
              "    </tr>\n",
              "    <tr>\n",
              "      <th>1</th>\n",
              "      <td>Emeka Jude Ugali</td>\n",
              "      <td>Emeka_Jude_Ugali</td>\n",
              "      <td>Emeka Jude Ugali (born 28 May 1982) is a retir...</td>\n",
              "      <td>Emeka Jude Ugali (born 28 May 1982) is a retir...</td>\n",
              "      <td>['A.C. Monza', 'A.C. Monza Brianza 1912', 'Der...</td>\n",
              "      <td>2</td>\n",
              "      <td>['1982 births', 'A.C. Monza players', 'All art...</td>\n",
              "      <td>Start</td>\n",
              "    </tr>\n",
              "    <tr>\n",
              "      <th>2</th>\n",
              "      <td>N?rnberg Falcons BC</td>\n",
              "      <td>NÃÂÃÂÃÂÃÂÃÂÃÂÃÂÃÂÃÂÃÂÃÂÃ...</td>\n",
              "      <td>N?rnberg Falcons BC, formerly called N?rnberge...</td>\n",
              "      <td>N?rnberg Falcons BC, formerly called N?rnberge...</td>\n",
              "      <td>['2012?13 ProA', '2013?14 ProA', '2014?15 ProA...</td>\n",
              "      <td>5</td>\n",
              "      <td>['Articles needing translation from German Wik...</td>\n",
              "      <td>NaN</td>\n",
              "    </tr>\n",
              "    <tr>\n",
              "      <th>3</th>\n",
              "      <td>Tareq wa Shireen</td>\n",
              "      <td>Tareq_wa_Shireen</td>\n",
              "      <td>Tareq wa Shireen (Arabic: ???? ? ?????) is one...</td>\n",
              "      <td>Tareq wa Shireen (Arabic: ???? ? ?????) is one...</td>\n",
              "      <td>['Animation', 'Arabic', 'Arabic heritage', 'Ar...</td>\n",
              "      <td>4</td>\n",
              "      <td>['2000s Jordanian television series', '2000s a...</td>\n",
              "      <td>Stub</td>\n",
              "    </tr>\n",
              "    <tr>\n",
              "      <th>4</th>\n",
              "      <td>Coco (2009 film)</td>\n",
              "      <td>Coco_(2009_film)</td>\n",
              "      <td>Coco is a 2009 French comedy film written, dir...</td>\n",
              "      <td>Coco is a 2009 French comedy film written, dir...</td>\n",
              "      <td>['Alain Goldman', 'Ary Abittan', 'Bar mitzvah'...</td>\n",
              "      <td>4</td>\n",
              "      <td>['2000s French-language films', '2000s French ...</td>\n",
              "      <td>Stub</td>\n",
              "    </tr>\n",
              "  </tbody>\n",
              "</table>\n",
              "</div>\n",
              "      <button class=\"colab-df-convert\" onclick=\"convertToInteractive('df-268685a8-edfb-4954-a6eb-21c42f6ac7b9')\"\n",
              "              title=\"Convert this dataframe to an interactive table.\"\n",
              "              style=\"display:none;\">\n",
              "        \n",
              "  <svg xmlns=\"http://www.w3.org/2000/svg\" height=\"24px\"viewBox=\"0 0 24 24\"\n",
              "       width=\"24px\">\n",
              "    <path d=\"M0 0h24v24H0V0z\" fill=\"none\"/>\n",
              "    <path d=\"M18.56 5.44l.94 2.06.94-2.06 2.06-.94-2.06-.94-.94-2.06-.94 2.06-2.06.94zm-11 1L8.5 8.5l.94-2.06 2.06-.94-2.06-.94L8.5 2.5l-.94 2.06-2.06.94zm10 10l.94 2.06.94-2.06 2.06-.94-2.06-.94-.94-2.06-.94 2.06-2.06.94z\"/><path d=\"M17.41 7.96l-1.37-1.37c-.4-.4-.92-.59-1.43-.59-.52 0-1.04.2-1.43.59L10.3 9.45l-7.72 7.72c-.78.78-.78 2.05 0 2.83L4 21.41c.39.39.9.59 1.41.59.51 0 1.02-.2 1.41-.59l7.78-7.78 2.81-2.81c.8-.78.8-2.07 0-2.86zM5.41 20L4 18.59l7.72-7.72 1.47 1.35L5.41 20z\"/>\n",
              "  </svg>\n",
              "      </button>\n",
              "      \n",
              "  <style>\n",
              "    .colab-df-container {\n",
              "      display:flex;\n",
              "      flex-wrap:wrap;\n",
              "      gap: 12px;\n",
              "    }\n",
              "\n",
              "    .colab-df-convert {\n",
              "      background-color: #E8F0FE;\n",
              "      border: none;\n",
              "      border-radius: 50%;\n",
              "      cursor: pointer;\n",
              "      display: none;\n",
              "      fill: #1967D2;\n",
              "      height: 32px;\n",
              "      padding: 0 0 0 0;\n",
              "      width: 32px;\n",
              "    }\n",
              "\n",
              "    .colab-df-convert:hover {\n",
              "      background-color: #E2EBFA;\n",
              "      box-shadow: 0px 1px 2px rgba(60, 64, 67, 0.3), 0px 1px 3px 1px rgba(60, 64, 67, 0.15);\n",
              "      fill: #174EA6;\n",
              "    }\n",
              "\n",
              "    [theme=dark] .colab-df-convert {\n",
              "      background-color: #3B4455;\n",
              "      fill: #D2E3FC;\n",
              "    }\n",
              "\n",
              "    [theme=dark] .colab-df-convert:hover {\n",
              "      background-color: #434B5C;\n",
              "      box-shadow: 0px 1px 3px 1px rgba(0, 0, 0, 0.15);\n",
              "      filter: drop-shadow(0px 1px 2px rgba(0, 0, 0, 0.3));\n",
              "      fill: #FFFFFF;\n",
              "    }\n",
              "  </style>\n",
              "\n",
              "      <script>\n",
              "        const buttonEl =\n",
              "          document.querySelector('#df-268685a8-edfb-4954-a6eb-21c42f6ac7b9 button.colab-df-convert');\n",
              "        buttonEl.style.display =\n",
              "          google.colab.kernel.accessAllowed ? 'block' : 'none';\n",
              "\n",
              "        async function convertToInteractive(key) {\n",
              "          const element = document.querySelector('#df-268685a8-edfb-4954-a6eb-21c42f6ac7b9');\n",
              "          const dataTable =\n",
              "            await google.colab.kernel.invokeFunction('convertToInteractive',\n",
              "                                                     [key], {});\n",
              "          if (!dataTable) return;\n",
              "\n",
              "          const docLinkHtml = 'Like what you see? Visit the ' +\n",
              "            '<a target=\"_blank\" href=https://colab.research.google.com/notebooks/data_table.ipynb>data table notebook</a>'\n",
              "            + ' to learn more about interactive tables.';\n",
              "          element.innerHTML = '';\n",
              "          dataTable['output_type'] = 'display_data';\n",
              "          await google.colab.output.renderOutput(dataTable, element);\n",
              "          const docLink = document.createElement('div');\n",
              "          docLink.innerHTML = docLinkHtml;\n",
              "          element.appendChild(docLink);\n",
              "        }\n",
              "      </script>\n",
              "    </div>\n",
              "  </div>\n",
              "  "
            ]
          },
          "metadata": {},
          "execution_count": 4
        }
      ],
      "source": [
        "dataset=pd.read_csv('/content/drive/MyDrive/COLAB/wiki/existing_data.csv')\n",
        "dataset.head()"
      ]
    },
    {
      "cell_type": "code",
      "execution_count": 5,
      "metadata": {
        "colab": {
          "base_uri": "https://localhost:8080/"
        },
        "id": "VlBo0o432nhx",
        "outputId": "217f811b-7d2c-4739-d6b8-9c3d3a85aa2e"
      },
      "outputs": [
        {
          "output_type": "execute_result",
          "data": {
            "text/plain": [
              "(9744, 8)"
            ]
          },
          "metadata": {},
          "execution_count": 5
        }
      ],
      "source": [
        "#Good to work on copy of dataset than original dataset\n",
        "df=dataset.copy()  \n",
        "df.shape "
      ]
    },
    {
      "cell_type": "code",
      "execution_count": 6,
      "metadata": {
        "colab": {
          "base_uri": "https://localhost:8080/"
        },
        "id": "Ary-bKOzqBNM",
        "outputId": "e27c343e-d7bb-42b8-82cf-0bb4b7dd7ab2"
      },
      "outputs": [
        {
          "output_type": "execute_result",
          "data": {
            "text/plain": [
              "Title              0\n",
              "Article Name       1\n",
              "Summary         1018\n",
              "Full Text       1018\n",
              "Links              1\n",
              "Sections           1\n",
              "Categories         1\n",
              "Class           3176\n",
              "dtype: int64"
            ]
          },
          "metadata": {},
          "execution_count": 6
        }
      ],
      "source": [
        "df.isnull().sum()"
      ]
    },
    {
      "cell_type": "code",
      "execution_count": 7,
      "metadata": {
        "id": "g6DzdlvV6U2D"
      },
      "outputs": [],
      "source": [
        "df.dropna(subset=['Class'], inplace=True)\n"
      ]
    },
    {
      "cell_type": "code",
      "execution_count": 11,
      "metadata": {
        "id": "vlm7GuaI5TkE",
        "colab": {
          "base_uri": "https://localhost:8080/"
        },
        "outputId": "24769770-b5d3-4f88-d2c7-f78de8d3ef58"
      },
      "outputs": [
        {
          "output_type": "execute_result",
          "data": {
            "text/plain": [
              "Stub                                   3982\n",
              "Start                                  1734\n",
              "C                                       326\n",
              "List                                    243\n",
              "FA                                      133\n",
              "B                                       108\n",
              "GA                                       40\n",
              "start}}{{WikiProject Southeast Asia       1\n",
              "Class                                     1\n",
              "Name: Class, dtype: int64"
            ]
          },
          "metadata": {},
          "execution_count": 11
        }
      ],
      "source": [
        "df['Class'].value_counts()"
      ]
    },
    {
      "cell_type": "markdown",
      "metadata": {
        "id": "5ToWX0x130Aq"
      },
      "source": [
        "**As Summary and Full Text have null values present but i think we should not drop as nothing means something valueble here**\n",
        "\n",
        "**Class is our dependent variable more than 30% data null so we are going to think about it**"
      ]
    },
    {
      "cell_type": "code",
      "execution_count": 12,
      "metadata": {
        "colab": {
          "base_uri": "https://localhost:8080/"
        },
        "id": "Un2N0CSNqUQb",
        "outputId": "974b74c6-3a33-462c-cb23-32b284945e64"
      },
      "outputs": [
        {
          "output_type": "execute_result",
          "data": {
            "text/plain": [
              "42"
            ]
          },
          "metadata": {},
          "execution_count": 12
        }
      ],
      "source": [
        "df.duplicated().sum()"
      ]
    },
    {
      "cell_type": "code",
      "execution_count": 13,
      "metadata": {
        "colab": {
          "base_uri": "https://localhost:8080/",
          "height": 641
        },
        "id": "LaSsBjMX7T9_",
        "outputId": "ea2e92d4-04db-4d99-f575-03c859741dab"
      },
      "outputs": [
        {
          "output_type": "execute_result",
          "data": {
            "text/plain": [
              "                          Title  \\\n",
              "1              Emeka Jude Ugali   \n",
              "3              Tareq wa Shireen   \n",
              "4              Coco (2009 film)   \n",
              "5              Nicol?s Lombardo   \n",
              "6     Shuriken Sentai Ninninger   \n",
              "...                         ...   \n",
              "9738            Perij? tapaculo   \n",
              "9739            Albert Ket?lbey   \n",
              "9740            Perij? tapaculo   \n",
              "9741            Perij? tapaculo   \n",
              "9742            Perij? tapaculo   \n",
              "\n",
              "                                           Article Name  \\\n",
              "1                                      Emeka_Jude_Ugali   \n",
              "3                                      Tareq_wa_Shireen   \n",
              "4                                      Coco_(2009_film)   \n",
              "5     NicolÃÂÃÂÃÂÃÂÃÂÃÂÃÂÃÂÃÂÃÂÃ...   \n",
              "6                             Shuriken_Sentai_Ninninger   \n",
              "...                                                 ...   \n",
              "9738                             PerijÃÂÃÂ¡_tapaculo   \n",
              "9739                                 Albert_KetÃÂ¨lbey   \n",
              "9740                                 PerijÃÂ¡_tapaculo   \n",
              "9741                                   PerijÃ¡_tapaculo   \n",
              "9742                                    Perijá_tapaculo   \n",
              "\n",
              "                                                Summary  \\\n",
              "1     Emeka Jude Ugali (born 28 May 1982) is a retir...   \n",
              "3     Tareq wa Shireen (Arabic: ???? ? ?????) is one...   \n",
              "4     Coco is a 2009 French comedy film written, dir...   \n",
              "5     Nicol?s Italo Lombardo, also known as Nicola I...   \n",
              "6     Shuriken Sentai Ninninger (????????????, Shuri...   \n",
              "...                                                 ...   \n",
              "9738  The Perij? tapaculo (Scytalopus perijanus) is ...   \n",
              "9739  Albert William Ket?lbey (; born Ketelbey; 9 Au...   \n",
              "9740  The Perij? tapaculo (Scytalopus perijanus) is ...   \n",
              "9741  The Perij? tapaculo (Scytalopus perijanus) is ...   \n",
              "9742  The Perij? tapaculo (Scytalopus perijanus) is ...   \n",
              "\n",
              "                                              Full Text  \\\n",
              "1     Emeka Jude Ugali (born 28 May 1982) is a retir...   \n",
              "3     Tareq wa Shireen (Arabic: ???? ? ?????) is one...   \n",
              "4     Coco is a 2009 French comedy film written, dir...   \n",
              "5     Nicol?s Italo Lombardo, also known as Nicola I...   \n",
              "6     Shuriken Sentai Ninninger (????????????, Shuri...   \n",
              "...                                                 ...   \n",
              "9738  The Perij? tapaculo (Scytalopus perijanus) is ...   \n",
              "9739  Albert William Ket?lbey (; born Ketelbey; 9 Au...   \n",
              "9740  The Perij? tapaculo (Scytalopus perijanus) is ...   \n",
              "9741  The Perij? tapaculo (Scytalopus perijanus) is ...   \n",
              "9742  The Perij? tapaculo (Scytalopus perijanus) is ...   \n",
              "\n",
              "                                                  Links Sections  \\\n",
              "1     ['A.C. Monza', 'A.C. Monza Brianza 1912', 'Der...        2   \n",
              "3     ['Animation', 'Arabic', 'Arabic heritage', 'Ar...        4   \n",
              "4     ['Alain Goldman', 'Ary Abittan', 'Bar mitzvah'...        4   \n",
              "5     ['A.C. Pisa 1909 S.S.D.', 'A.S. Roma', 'Agust?...        0   \n",
              "6     ['Action fiction', 'Amazon Riders', 'Atsushi M...       11   \n",
              "...                                                 ...      ...   \n",
              "9738  ['Alexander Cort?s Diago', \"American Ornitholo...        7   \n",
              "9739  ['Adelphi Theatre', 'Alfred R. Gaul', 'Alice i...        5   \n",
              "9740  ['Alexander Cort?s Diago', \"American Ornitholo...        7   \n",
              "9741  ['Alexander Cort?s Diago', \"American Ornitholo...        7   \n",
              "9742  ['Alexander Cort?s Diago', \"American Ornitholo...        7   \n",
              "\n",
              "                                             Categories  Class  \n",
              "1     ['1982 births', 'A.C. Monza players', 'All art...  Start  \n",
              "3     ['2000s Jordanian television series', '2000s a...   Stub  \n",
              "4     ['2000s French-language films', '2000s French ...   Stub  \n",
              "5     ['1903 births', 'A.S. Roma players', 'All stub...   Stub  \n",
              "6     ['2015 Japanese television series debuts', '20...  Start  \n",
              "...                                                 ...    ...  \n",
              "9738  ['Articles containing video clips', \"Articles ...     FA  \n",
              "9739  ['1875 births', '1959 deaths', '19th-century B...     FA  \n",
              "9740  ['Articles containing video clips', \"Articles ...     FA  \n",
              "9741  ['Articles containing video clips', \"Articles ...     FA  \n",
              "9742  ['Articles containing video clips', \"Articles ...     FA  \n",
              "\n",
              "[6526 rows x 8 columns]"
            ],
            "text/html": [
              "\n",
              "  <div id=\"df-56489159-3545-4a3d-8d67-f805e80978ac\">\n",
              "    <div class=\"colab-df-container\">\n",
              "      <div>\n",
              "<style scoped>\n",
              "    .dataframe tbody tr th:only-of-type {\n",
              "        vertical-align: middle;\n",
              "    }\n",
              "\n",
              "    .dataframe tbody tr th {\n",
              "        vertical-align: top;\n",
              "    }\n",
              "\n",
              "    .dataframe thead th {\n",
              "        text-align: right;\n",
              "    }\n",
              "</style>\n",
              "<table border=\"1\" class=\"dataframe\">\n",
              "  <thead>\n",
              "    <tr style=\"text-align: right;\">\n",
              "      <th></th>\n",
              "      <th>Title</th>\n",
              "      <th>Article Name</th>\n",
              "      <th>Summary</th>\n",
              "      <th>Full Text</th>\n",
              "      <th>Links</th>\n",
              "      <th>Sections</th>\n",
              "      <th>Categories</th>\n",
              "      <th>Class</th>\n",
              "    </tr>\n",
              "  </thead>\n",
              "  <tbody>\n",
              "    <tr>\n",
              "      <th>1</th>\n",
              "      <td>Emeka Jude Ugali</td>\n",
              "      <td>Emeka_Jude_Ugali</td>\n",
              "      <td>Emeka Jude Ugali (born 28 May 1982) is a retir...</td>\n",
              "      <td>Emeka Jude Ugali (born 28 May 1982) is a retir...</td>\n",
              "      <td>['A.C. Monza', 'A.C. Monza Brianza 1912', 'Der...</td>\n",
              "      <td>2</td>\n",
              "      <td>['1982 births', 'A.C. Monza players', 'All art...</td>\n",
              "      <td>Start</td>\n",
              "    </tr>\n",
              "    <tr>\n",
              "      <th>3</th>\n",
              "      <td>Tareq wa Shireen</td>\n",
              "      <td>Tareq_wa_Shireen</td>\n",
              "      <td>Tareq wa Shireen (Arabic: ???? ? ?????) is one...</td>\n",
              "      <td>Tareq wa Shireen (Arabic: ???? ? ?????) is one...</td>\n",
              "      <td>['Animation', 'Arabic', 'Arabic heritage', 'Ar...</td>\n",
              "      <td>4</td>\n",
              "      <td>['2000s Jordanian television series', '2000s a...</td>\n",
              "      <td>Stub</td>\n",
              "    </tr>\n",
              "    <tr>\n",
              "      <th>4</th>\n",
              "      <td>Coco (2009 film)</td>\n",
              "      <td>Coco_(2009_film)</td>\n",
              "      <td>Coco is a 2009 French comedy film written, dir...</td>\n",
              "      <td>Coco is a 2009 French comedy film written, dir...</td>\n",
              "      <td>['Alain Goldman', 'Ary Abittan', 'Bar mitzvah'...</td>\n",
              "      <td>4</td>\n",
              "      <td>['2000s French-language films', '2000s French ...</td>\n",
              "      <td>Stub</td>\n",
              "    </tr>\n",
              "    <tr>\n",
              "      <th>5</th>\n",
              "      <td>Nicol?s Lombardo</td>\n",
              "      <td>NicolÃÂÃÂÃÂÃÂÃÂÃÂÃÂÃÂÃÂÃÂÃ...</td>\n",
              "      <td>Nicol?s Italo Lombardo, also known as Nicola I...</td>\n",
              "      <td>Nicol?s Italo Lombardo, also known as Nicola I...</td>\n",
              "      <td>['A.C. Pisa 1909 S.S.D.', 'A.S. Roma', 'Agust?...</td>\n",
              "      <td>0</td>\n",
              "      <td>['1903 births', 'A.S. Roma players', 'All stub...</td>\n",
              "      <td>Stub</td>\n",
              "    </tr>\n",
              "    <tr>\n",
              "      <th>6</th>\n",
              "      <td>Shuriken Sentai Ninninger</td>\n",
              "      <td>Shuriken_Sentai_Ninninger</td>\n",
              "      <td>Shuriken Sentai Ninninger (????????????, Shuri...</td>\n",
              "      <td>Shuriken Sentai Ninninger (????????????, Shuri...</td>\n",
              "      <td>['Action fiction', 'Amazon Riders', 'Atsushi M...</td>\n",
              "      <td>11</td>\n",
              "      <td>['2015 Japanese television series debuts', '20...</td>\n",
              "      <td>Start</td>\n",
              "    </tr>\n",
              "    <tr>\n",
              "      <th>...</th>\n",
              "      <td>...</td>\n",
              "      <td>...</td>\n",
              "      <td>...</td>\n",
              "      <td>...</td>\n",
              "      <td>...</td>\n",
              "      <td>...</td>\n",
              "      <td>...</td>\n",
              "      <td>...</td>\n",
              "    </tr>\n",
              "    <tr>\n",
              "      <th>9738</th>\n",
              "      <td>Perij? tapaculo</td>\n",
              "      <td>PerijÃÂÃÂ¡_tapaculo</td>\n",
              "      <td>The Perij? tapaculo (Scytalopus perijanus) is ...</td>\n",
              "      <td>The Perij? tapaculo (Scytalopus perijanus) is ...</td>\n",
              "      <td>['Alexander Cort?s Diago', \"American Ornitholo...</td>\n",
              "      <td>7</td>\n",
              "      <td>['Articles containing video clips', \"Articles ...</td>\n",
              "      <td>FA</td>\n",
              "    </tr>\n",
              "    <tr>\n",
              "      <th>9739</th>\n",
              "      <td>Albert Ket?lbey</td>\n",
              "      <td>Albert_KetÃÂ¨lbey</td>\n",
              "      <td>Albert William Ket?lbey (; born Ketelbey; 9 Au...</td>\n",
              "      <td>Albert William Ket?lbey (; born Ketelbey; 9 Au...</td>\n",
              "      <td>['Adelphi Theatre', 'Alfred R. Gaul', 'Alice i...</td>\n",
              "      <td>5</td>\n",
              "      <td>['1875 births', '1959 deaths', '19th-century B...</td>\n",
              "      <td>FA</td>\n",
              "    </tr>\n",
              "    <tr>\n",
              "      <th>9740</th>\n",
              "      <td>Perij? tapaculo</td>\n",
              "      <td>PerijÃÂ¡_tapaculo</td>\n",
              "      <td>The Perij? tapaculo (Scytalopus perijanus) is ...</td>\n",
              "      <td>The Perij? tapaculo (Scytalopus perijanus) is ...</td>\n",
              "      <td>['Alexander Cort?s Diago', \"American Ornitholo...</td>\n",
              "      <td>7</td>\n",
              "      <td>['Articles containing video clips', \"Articles ...</td>\n",
              "      <td>FA</td>\n",
              "    </tr>\n",
              "    <tr>\n",
              "      <th>9741</th>\n",
              "      <td>Perij? tapaculo</td>\n",
              "      <td>PerijÃ¡_tapaculo</td>\n",
              "      <td>The Perij? tapaculo (Scytalopus perijanus) is ...</td>\n",
              "      <td>The Perij? tapaculo (Scytalopus perijanus) is ...</td>\n",
              "      <td>['Alexander Cort?s Diago', \"American Ornitholo...</td>\n",
              "      <td>7</td>\n",
              "      <td>['Articles containing video clips', \"Articles ...</td>\n",
              "      <td>FA</td>\n",
              "    </tr>\n",
              "    <tr>\n",
              "      <th>9742</th>\n",
              "      <td>Perij? tapaculo</td>\n",
              "      <td>Perijá_tapaculo</td>\n",
              "      <td>The Perij? tapaculo (Scytalopus perijanus) is ...</td>\n",
              "      <td>The Perij? tapaculo (Scytalopus perijanus) is ...</td>\n",
              "      <td>['Alexander Cort?s Diago', \"American Ornitholo...</td>\n",
              "      <td>7</td>\n",
              "      <td>['Articles containing video clips', \"Articles ...</td>\n",
              "      <td>FA</td>\n",
              "    </tr>\n",
              "  </tbody>\n",
              "</table>\n",
              "<p>6526 rows × 8 columns</p>\n",
              "</div>\n",
              "      <button class=\"colab-df-convert\" onclick=\"convertToInteractive('df-56489159-3545-4a3d-8d67-f805e80978ac')\"\n",
              "              title=\"Convert this dataframe to an interactive table.\"\n",
              "              style=\"display:none;\">\n",
              "        \n",
              "  <svg xmlns=\"http://www.w3.org/2000/svg\" height=\"24px\"viewBox=\"0 0 24 24\"\n",
              "       width=\"24px\">\n",
              "    <path d=\"M0 0h24v24H0V0z\" fill=\"none\"/>\n",
              "    <path d=\"M18.56 5.44l.94 2.06.94-2.06 2.06-.94-2.06-.94-.94-2.06-.94 2.06-2.06.94zm-11 1L8.5 8.5l.94-2.06 2.06-.94-2.06-.94L8.5 2.5l-.94 2.06-2.06.94zm10 10l.94 2.06.94-2.06 2.06-.94-2.06-.94-.94-2.06-.94 2.06-2.06.94z\"/><path d=\"M17.41 7.96l-1.37-1.37c-.4-.4-.92-.59-1.43-.59-.52 0-1.04.2-1.43.59L10.3 9.45l-7.72 7.72c-.78.78-.78 2.05 0 2.83L4 21.41c.39.39.9.59 1.41.59.51 0 1.02-.2 1.41-.59l7.78-7.78 2.81-2.81c.8-.78.8-2.07 0-2.86zM5.41 20L4 18.59l7.72-7.72 1.47 1.35L5.41 20z\"/>\n",
              "  </svg>\n",
              "      </button>\n",
              "      \n",
              "  <style>\n",
              "    .colab-df-container {\n",
              "      display:flex;\n",
              "      flex-wrap:wrap;\n",
              "      gap: 12px;\n",
              "    }\n",
              "\n",
              "    .colab-df-convert {\n",
              "      background-color: #E8F0FE;\n",
              "      border: none;\n",
              "      border-radius: 50%;\n",
              "      cursor: pointer;\n",
              "      display: none;\n",
              "      fill: #1967D2;\n",
              "      height: 32px;\n",
              "      padding: 0 0 0 0;\n",
              "      width: 32px;\n",
              "    }\n",
              "\n",
              "    .colab-df-convert:hover {\n",
              "      background-color: #E2EBFA;\n",
              "      box-shadow: 0px 1px 2px rgba(60, 64, 67, 0.3), 0px 1px 3px 1px rgba(60, 64, 67, 0.15);\n",
              "      fill: #174EA6;\n",
              "    }\n",
              "\n",
              "    [theme=dark] .colab-df-convert {\n",
              "      background-color: #3B4455;\n",
              "      fill: #D2E3FC;\n",
              "    }\n",
              "\n",
              "    [theme=dark] .colab-df-convert:hover {\n",
              "      background-color: #434B5C;\n",
              "      box-shadow: 0px 1px 3px 1px rgba(0, 0, 0, 0.15);\n",
              "      filter: drop-shadow(0px 1px 2px rgba(0, 0, 0, 0.3));\n",
              "      fill: #FFFFFF;\n",
              "    }\n",
              "  </style>\n",
              "\n",
              "      <script>\n",
              "        const buttonEl =\n",
              "          document.querySelector('#df-56489159-3545-4a3d-8d67-f805e80978ac button.colab-df-convert');\n",
              "        buttonEl.style.display =\n",
              "          google.colab.kernel.accessAllowed ? 'block' : 'none';\n",
              "\n",
              "        async function convertToInteractive(key) {\n",
              "          const element = document.querySelector('#df-56489159-3545-4a3d-8d67-f805e80978ac');\n",
              "          const dataTable =\n",
              "            await google.colab.kernel.invokeFunction('convertToInteractive',\n",
              "                                                     [key], {});\n",
              "          if (!dataTable) return;\n",
              "\n",
              "          const docLinkHtml = 'Like what you see? Visit the ' +\n",
              "            '<a target=\"_blank\" href=https://colab.research.google.com/notebooks/data_table.ipynb>data table notebook</a>'\n",
              "            + ' to learn more about interactive tables.';\n",
              "          element.innerHTML = '';\n",
              "          dataTable['output_type'] = 'display_data';\n",
              "          await google.colab.output.renderOutput(dataTable, element);\n",
              "          const docLink = document.createElement('div');\n",
              "          docLink.innerHTML = docLinkHtml;\n",
              "          element.appendChild(docLink);\n",
              "        }\n",
              "      </script>\n",
              "    </div>\n",
              "  </div>\n",
              "  "
            ]
          },
          "metadata": {},
          "execution_count": 13
        }
      ],
      "source": [
        "df.drop_duplicates()"
      ]
    },
    {
      "cell_type": "code",
      "source": [
        "df.isnull().sum()"
      ],
      "metadata": {
        "colab": {
          "base_uri": "https://localhost:8080/"
        },
        "id": "14RjMOXvWpYC",
        "outputId": "89a765fe-03da-496c-97e0-0fa569980020"
      },
      "execution_count": 14,
      "outputs": [
        {
          "output_type": "execute_result",
          "data": {
            "text/plain": [
              "Title             0\n",
              "Article Name      0\n",
              "Summary         399\n",
              "Full Text       399\n",
              "Links             0\n",
              "Sections          0\n",
              "Categories        0\n",
              "Class             0\n",
              "dtype: int64"
            ]
          },
          "metadata": {},
          "execution_count": 14
        }
      ]
    },
    {
      "cell_type": "code",
      "source": [
        "df.rename(\n",
        "    columns=({ 'Full Text': 'Full_Text'}), \n",
        "    inplace=True,)\n"
      ],
      "metadata": {
        "id": "6VzYbhwNZ-Ii"
      },
      "execution_count": 15,
      "outputs": []
    },
    {
      "cell_type": "code",
      "source": [
        "df.dtypes"
      ],
      "metadata": {
        "colab": {
          "base_uri": "https://localhost:8080/"
        },
        "id": "wt33xYAvc_hr",
        "outputId": "8ec8e0a8-1e6d-495c-fa20-82ca0ff6ccdb"
      },
      "execution_count": 16,
      "outputs": [
        {
          "output_type": "execute_result",
          "data": {
            "text/plain": [
              "Title           object\n",
              "Article Name    object\n",
              "Summary         object\n",
              "Full_Text       object\n",
              "Links           object\n",
              "Sections        object\n",
              "Categories      object\n",
              "Class           object\n",
              "dtype: object"
            ]
          },
          "metadata": {},
          "execution_count": 16
        }
      ]
    },
    {
      "cell_type": "markdown",
      "source": [
        "**As Sections coulmn is object type we need convert it in int**"
      ],
      "metadata": {
        "id": "_GHn0kwxdVZo"
      }
    },
    {
      "cell_type": "code",
      "source": [
        "df['Sections'] = pd.to_numeric(df['Sections'], errors='coerce').fillna(0).astype(int)\n",
        "\n"
      ],
      "metadata": {
        "id": "lZmIu_-hdgRE"
      },
      "execution_count": 17,
      "outputs": []
    },
    {
      "cell_type": "markdown",
      "source": [
        "#**2.Encoding**"
      ],
      "metadata": {
        "id": "Kzu65ViTYWs3"
      }
    },
    {
      "cell_type": "markdown",
      "source": [
        "**1. Tried to check Title and Article name present in Full Text or not but getting out 1 or o by adjusting threshhold so i decided to remove columns as they are not helful**"
      ],
      "metadata": {
        "id": "vH8Dh1zOYfQF"
      }
    },
    {
      "cell_type": "code",
      "source": [
        "df.drop(['Title','Article Name'],inplace=True,axis=1)"
      ],
      "metadata": {
        "id": "3F3lGcs5YeYo"
      },
      "execution_count": 18,
      "outputs": []
    },
    {
      "cell_type": "code",
      "source": [
        "df"
      ],
      "metadata": {
        "colab": {
          "base_uri": "https://localhost:8080/",
          "height": 423
        },
        "id": "0dbvUdFLaBTz",
        "outputId": "be638ffe-fbdd-4533-9a2e-d36b67445bd7"
      },
      "execution_count": 19,
      "outputs": [
        {
          "output_type": "execute_result",
          "data": {
            "text/plain": [
              "                                                Summary  \\\n",
              "1     Emeka Jude Ugali (born 28 May 1982) is a retir...   \n",
              "3     Tareq wa Shireen (Arabic: ???? ? ?????) is one...   \n",
              "4     Coco is a 2009 French comedy film written, dir...   \n",
              "5     Nicol?s Italo Lombardo, also known as Nicola I...   \n",
              "6     Shuriken Sentai Ninninger (????????????, Shuri...   \n",
              "...                                                 ...   \n",
              "9738  The Perij? tapaculo (Scytalopus perijanus) is ...   \n",
              "9739  Albert William Ket?lbey (; born Ketelbey; 9 Au...   \n",
              "9740  The Perij? tapaculo (Scytalopus perijanus) is ...   \n",
              "9741  The Perij? tapaculo (Scytalopus perijanus) is ...   \n",
              "9742  The Perij? tapaculo (Scytalopus perijanus) is ...   \n",
              "\n",
              "                                              Full_Text  \\\n",
              "1     Emeka Jude Ugali (born 28 May 1982) is a retir...   \n",
              "3     Tareq wa Shireen (Arabic: ???? ? ?????) is one...   \n",
              "4     Coco is a 2009 French comedy film written, dir...   \n",
              "5     Nicol?s Italo Lombardo, also known as Nicola I...   \n",
              "6     Shuriken Sentai Ninninger (????????????, Shuri...   \n",
              "...                                                 ...   \n",
              "9738  The Perij? tapaculo (Scytalopus perijanus) is ...   \n",
              "9739  Albert William Ket?lbey (; born Ketelbey; 9 Au...   \n",
              "9740  The Perij? tapaculo (Scytalopus perijanus) is ...   \n",
              "9741  The Perij? tapaculo (Scytalopus perijanus) is ...   \n",
              "9742  The Perij? tapaculo (Scytalopus perijanus) is ...   \n",
              "\n",
              "                                                  Links  Sections  \\\n",
              "1     ['A.C. Monza', 'A.C. Monza Brianza 1912', 'Der...         2   \n",
              "3     ['Animation', 'Arabic', 'Arabic heritage', 'Ar...         4   \n",
              "4     ['Alain Goldman', 'Ary Abittan', 'Bar mitzvah'...         4   \n",
              "5     ['A.C. Pisa 1909 S.S.D.', 'A.S. Roma', 'Agust?...         0   \n",
              "6     ['Action fiction', 'Amazon Riders', 'Atsushi M...        11   \n",
              "...                                                 ...       ...   \n",
              "9738  ['Alexander Cort?s Diago', \"American Ornitholo...         7   \n",
              "9739  ['Adelphi Theatre', 'Alfred R. Gaul', 'Alice i...         5   \n",
              "9740  ['Alexander Cort?s Diago', \"American Ornitholo...         7   \n",
              "9741  ['Alexander Cort?s Diago', \"American Ornitholo...         7   \n",
              "9742  ['Alexander Cort?s Diago', \"American Ornitholo...         7   \n",
              "\n",
              "                                             Categories  Class  \n",
              "1     ['1982 births', 'A.C. Monza players', 'All art...  Start  \n",
              "3     ['2000s Jordanian television series', '2000s a...   Stub  \n",
              "4     ['2000s French-language films', '2000s French ...   Stub  \n",
              "5     ['1903 births', 'A.S. Roma players', 'All stub...   Stub  \n",
              "6     ['2015 Japanese television series debuts', '20...  Start  \n",
              "...                                                 ...    ...  \n",
              "9738  ['Articles containing video clips', \"Articles ...     FA  \n",
              "9739  ['1875 births', '1959 deaths', '19th-century B...     FA  \n",
              "9740  ['Articles containing video clips', \"Articles ...     FA  \n",
              "9741  ['Articles containing video clips', \"Articles ...     FA  \n",
              "9742  ['Articles containing video clips', \"Articles ...     FA  \n",
              "\n",
              "[6568 rows x 6 columns]"
            ],
            "text/html": [
              "\n",
              "  <div id=\"df-a019aa05-28d6-49e5-a622-4b2abb885243\">\n",
              "    <div class=\"colab-df-container\">\n",
              "      <div>\n",
              "<style scoped>\n",
              "    .dataframe tbody tr th:only-of-type {\n",
              "        vertical-align: middle;\n",
              "    }\n",
              "\n",
              "    .dataframe tbody tr th {\n",
              "        vertical-align: top;\n",
              "    }\n",
              "\n",
              "    .dataframe thead th {\n",
              "        text-align: right;\n",
              "    }\n",
              "</style>\n",
              "<table border=\"1\" class=\"dataframe\">\n",
              "  <thead>\n",
              "    <tr style=\"text-align: right;\">\n",
              "      <th></th>\n",
              "      <th>Summary</th>\n",
              "      <th>Full_Text</th>\n",
              "      <th>Links</th>\n",
              "      <th>Sections</th>\n",
              "      <th>Categories</th>\n",
              "      <th>Class</th>\n",
              "    </tr>\n",
              "  </thead>\n",
              "  <tbody>\n",
              "    <tr>\n",
              "      <th>1</th>\n",
              "      <td>Emeka Jude Ugali (born 28 May 1982) is a retir...</td>\n",
              "      <td>Emeka Jude Ugali (born 28 May 1982) is a retir...</td>\n",
              "      <td>['A.C. Monza', 'A.C. Monza Brianza 1912', 'Der...</td>\n",
              "      <td>2</td>\n",
              "      <td>['1982 births', 'A.C. Monza players', 'All art...</td>\n",
              "      <td>Start</td>\n",
              "    </tr>\n",
              "    <tr>\n",
              "      <th>3</th>\n",
              "      <td>Tareq wa Shireen (Arabic: ???? ? ?????) is one...</td>\n",
              "      <td>Tareq wa Shireen (Arabic: ???? ? ?????) is one...</td>\n",
              "      <td>['Animation', 'Arabic', 'Arabic heritage', 'Ar...</td>\n",
              "      <td>4</td>\n",
              "      <td>['2000s Jordanian television series', '2000s a...</td>\n",
              "      <td>Stub</td>\n",
              "    </tr>\n",
              "    <tr>\n",
              "      <th>4</th>\n",
              "      <td>Coco is a 2009 French comedy film written, dir...</td>\n",
              "      <td>Coco is a 2009 French comedy film written, dir...</td>\n",
              "      <td>['Alain Goldman', 'Ary Abittan', 'Bar mitzvah'...</td>\n",
              "      <td>4</td>\n",
              "      <td>['2000s French-language films', '2000s French ...</td>\n",
              "      <td>Stub</td>\n",
              "    </tr>\n",
              "    <tr>\n",
              "      <th>5</th>\n",
              "      <td>Nicol?s Italo Lombardo, also known as Nicola I...</td>\n",
              "      <td>Nicol?s Italo Lombardo, also known as Nicola I...</td>\n",
              "      <td>['A.C. Pisa 1909 S.S.D.', 'A.S. Roma', 'Agust?...</td>\n",
              "      <td>0</td>\n",
              "      <td>['1903 births', 'A.S. Roma players', 'All stub...</td>\n",
              "      <td>Stub</td>\n",
              "    </tr>\n",
              "    <tr>\n",
              "      <th>6</th>\n",
              "      <td>Shuriken Sentai Ninninger (????????????, Shuri...</td>\n",
              "      <td>Shuriken Sentai Ninninger (????????????, Shuri...</td>\n",
              "      <td>['Action fiction', 'Amazon Riders', 'Atsushi M...</td>\n",
              "      <td>11</td>\n",
              "      <td>['2015 Japanese television series debuts', '20...</td>\n",
              "      <td>Start</td>\n",
              "    </tr>\n",
              "    <tr>\n",
              "      <th>...</th>\n",
              "      <td>...</td>\n",
              "      <td>...</td>\n",
              "      <td>...</td>\n",
              "      <td>...</td>\n",
              "      <td>...</td>\n",
              "      <td>...</td>\n",
              "    </tr>\n",
              "    <tr>\n",
              "      <th>9738</th>\n",
              "      <td>The Perij? tapaculo (Scytalopus perijanus) is ...</td>\n",
              "      <td>The Perij? tapaculo (Scytalopus perijanus) is ...</td>\n",
              "      <td>['Alexander Cort?s Diago', \"American Ornitholo...</td>\n",
              "      <td>7</td>\n",
              "      <td>['Articles containing video clips', \"Articles ...</td>\n",
              "      <td>FA</td>\n",
              "    </tr>\n",
              "    <tr>\n",
              "      <th>9739</th>\n",
              "      <td>Albert William Ket?lbey (; born Ketelbey; 9 Au...</td>\n",
              "      <td>Albert William Ket?lbey (; born Ketelbey; 9 Au...</td>\n",
              "      <td>['Adelphi Theatre', 'Alfred R. Gaul', 'Alice i...</td>\n",
              "      <td>5</td>\n",
              "      <td>['1875 births', '1959 deaths', '19th-century B...</td>\n",
              "      <td>FA</td>\n",
              "    </tr>\n",
              "    <tr>\n",
              "      <th>9740</th>\n",
              "      <td>The Perij? tapaculo (Scytalopus perijanus) is ...</td>\n",
              "      <td>The Perij? tapaculo (Scytalopus perijanus) is ...</td>\n",
              "      <td>['Alexander Cort?s Diago', \"American Ornitholo...</td>\n",
              "      <td>7</td>\n",
              "      <td>['Articles containing video clips', \"Articles ...</td>\n",
              "      <td>FA</td>\n",
              "    </tr>\n",
              "    <tr>\n",
              "      <th>9741</th>\n",
              "      <td>The Perij? tapaculo (Scytalopus perijanus) is ...</td>\n",
              "      <td>The Perij? tapaculo (Scytalopus perijanus) is ...</td>\n",
              "      <td>['Alexander Cort?s Diago', \"American Ornitholo...</td>\n",
              "      <td>7</td>\n",
              "      <td>['Articles containing video clips', \"Articles ...</td>\n",
              "      <td>FA</td>\n",
              "    </tr>\n",
              "    <tr>\n",
              "      <th>9742</th>\n",
              "      <td>The Perij? tapaculo (Scytalopus perijanus) is ...</td>\n",
              "      <td>The Perij? tapaculo (Scytalopus perijanus) is ...</td>\n",
              "      <td>['Alexander Cort?s Diago', \"American Ornitholo...</td>\n",
              "      <td>7</td>\n",
              "      <td>['Articles containing video clips', \"Articles ...</td>\n",
              "      <td>FA</td>\n",
              "    </tr>\n",
              "  </tbody>\n",
              "</table>\n",
              "<p>6568 rows × 6 columns</p>\n",
              "</div>\n",
              "      <button class=\"colab-df-convert\" onclick=\"convertToInteractive('df-a019aa05-28d6-49e5-a622-4b2abb885243')\"\n",
              "              title=\"Convert this dataframe to an interactive table.\"\n",
              "              style=\"display:none;\">\n",
              "        \n",
              "  <svg xmlns=\"http://www.w3.org/2000/svg\" height=\"24px\"viewBox=\"0 0 24 24\"\n",
              "       width=\"24px\">\n",
              "    <path d=\"M0 0h24v24H0V0z\" fill=\"none\"/>\n",
              "    <path d=\"M18.56 5.44l.94 2.06.94-2.06 2.06-.94-2.06-.94-.94-2.06-.94 2.06-2.06.94zm-11 1L8.5 8.5l.94-2.06 2.06-.94-2.06-.94L8.5 2.5l-.94 2.06-2.06.94zm10 10l.94 2.06.94-2.06 2.06-.94-2.06-.94-.94-2.06-.94 2.06-2.06.94z\"/><path d=\"M17.41 7.96l-1.37-1.37c-.4-.4-.92-.59-1.43-.59-.52 0-1.04.2-1.43.59L10.3 9.45l-7.72 7.72c-.78.78-.78 2.05 0 2.83L4 21.41c.39.39.9.59 1.41.59.51 0 1.02-.2 1.41-.59l7.78-7.78 2.81-2.81c.8-.78.8-2.07 0-2.86zM5.41 20L4 18.59l7.72-7.72 1.47 1.35L5.41 20z\"/>\n",
              "  </svg>\n",
              "      </button>\n",
              "      \n",
              "  <style>\n",
              "    .colab-df-container {\n",
              "      display:flex;\n",
              "      flex-wrap:wrap;\n",
              "      gap: 12px;\n",
              "    }\n",
              "\n",
              "    .colab-df-convert {\n",
              "      background-color: #E8F0FE;\n",
              "      border: none;\n",
              "      border-radius: 50%;\n",
              "      cursor: pointer;\n",
              "      display: none;\n",
              "      fill: #1967D2;\n",
              "      height: 32px;\n",
              "      padding: 0 0 0 0;\n",
              "      width: 32px;\n",
              "    }\n",
              "\n",
              "    .colab-df-convert:hover {\n",
              "      background-color: #E2EBFA;\n",
              "      box-shadow: 0px 1px 2px rgba(60, 64, 67, 0.3), 0px 1px 3px 1px rgba(60, 64, 67, 0.15);\n",
              "      fill: #174EA6;\n",
              "    }\n",
              "\n",
              "    [theme=dark] .colab-df-convert {\n",
              "      background-color: #3B4455;\n",
              "      fill: #D2E3FC;\n",
              "    }\n",
              "\n",
              "    [theme=dark] .colab-df-convert:hover {\n",
              "      background-color: #434B5C;\n",
              "      box-shadow: 0px 1px 3px 1px rgba(0, 0, 0, 0.15);\n",
              "      filter: drop-shadow(0px 1px 2px rgba(0, 0, 0, 0.3));\n",
              "      fill: #FFFFFF;\n",
              "    }\n",
              "  </style>\n",
              "\n",
              "      <script>\n",
              "        const buttonEl =\n",
              "          document.querySelector('#df-a019aa05-28d6-49e5-a622-4b2abb885243 button.colab-df-convert');\n",
              "        buttonEl.style.display =\n",
              "          google.colab.kernel.accessAllowed ? 'block' : 'none';\n",
              "\n",
              "        async function convertToInteractive(key) {\n",
              "          const element = document.querySelector('#df-a019aa05-28d6-49e5-a622-4b2abb885243');\n",
              "          const dataTable =\n",
              "            await google.colab.kernel.invokeFunction('convertToInteractive',\n",
              "                                                     [key], {});\n",
              "          if (!dataTable) return;\n",
              "\n",
              "          const docLinkHtml = 'Like what you see? Visit the ' +\n",
              "            '<a target=\"_blank\" href=https://colab.research.google.com/notebooks/data_table.ipynb>data table notebook</a>'\n",
              "            + ' to learn more about interactive tables.';\n",
              "          element.innerHTML = '';\n",
              "          dataTable['output_type'] = 'display_data';\n",
              "          await google.colab.output.renderOutput(dataTable, element);\n",
              "          const docLink = document.createElement('div');\n",
              "          docLink.innerHTML = docLinkHtml;\n",
              "          element.appendChild(docLink);\n",
              "        }\n",
              "      </script>\n",
              "    </div>\n",
              "  </div>\n",
              "  "
            ]
          },
          "metadata": {},
          "execution_count": 19
        }
      ]
    },
    {
      "cell_type": "markdown",
      "source": [
        "**2.As Summary and Full Text are two coluns are text detaset we are coverting it into length of text**"
      ],
      "metadata": {
        "id": "blPQmIlIZct7"
      }
    },
    {
      "cell_type": "code",
      "source": [
        "df['Summary_Length'] = df['Summary'].str.len()\n",
        "df['Full_Text_Length'] = df['Full_Text'].str.len()\n",
        "df.drop(['Full_Text','Summary'],inplace=True,axis=1)\n"
      ],
      "metadata": {
        "id": "BKe4yOHbZYzd"
      },
      "execution_count": 20,
      "outputs": []
    },
    {
      "cell_type": "markdown",
      "source": [
        "**3.As Links column contains number of links in string format seperated by columns we are going to count it and put count in new column**"
      ],
      "metadata": {
        "id": "lRRjIVP6cScG"
      }
    },
    {
      "cell_type": "code",
      "source": [
        "df['Links_Count'] = df['Links'].str.count(',') + 1\n",
        "df.drop('Links',inplace=True,axis=1)"
      ],
      "metadata": {
        "id": "OzJvT2CRbNwL"
      },
      "execution_count": 21,
      "outputs": []
    },
    {
      "cell_type": "markdown",
      "source": [
        "**3.As Categories column contains number of Categories in string format seperated by columns we are going to count it and put count in new column Categories_count**"
      ],
      "metadata": {
        "id": "E4va0DEtcv2q"
      }
    },
    {
      "cell_type": "code",
      "source": [
        "df['Categories_count'] = df['Categories'].str.count(',') + 1\n",
        "df.drop('Categories',inplace=True,axis=1)\n",
        "df"
      ],
      "metadata": {
        "colab": {
          "base_uri": "https://localhost:8080/",
          "height": 423
        },
        "id": "oLVN8u2Ib_jl",
        "outputId": "1efd519e-ecf1-43b5-9e71-fca222bd2e97"
      },
      "execution_count": 22,
      "outputs": [
        {
          "output_type": "execute_result",
          "data": {
            "text/plain": [
              "      Sections  Class  Summary_Length  Full_Text_Length  Links_Count  \\\n",
              "1            2  Start            75.0            1752.0           28   \n",
              "3            4   Stub           391.0             956.0           16   \n",
              "4            4   Stub           514.0             948.0           32   \n",
              "5            0   Stub           293.0             293.0           81   \n",
              "6           11  Start          1128.0           11978.0          163   \n",
              "...        ...    ...             ...               ...          ...   \n",
              "9738         7     FA          1110.0            9698.0           91   \n",
              "9739         5     FA          2486.0           32935.0          195   \n",
              "9740         7     FA          1110.0            9698.0           91   \n",
              "9741         7     FA          1110.0            9698.0           91   \n",
              "9742         7     FA          1110.0            9698.0           91   \n",
              "\n",
              "      Categories_count  \n",
              "1                   24  \n",
              "3                   12  \n",
              "4                   12  \n",
              "5                   20  \n",
              "6                   12  \n",
              "...                ...  \n",
              "9738                12  \n",
              "9739                64  \n",
              "9740                12  \n",
              "9741                12  \n",
              "9742                12  \n",
              "\n",
              "[6568 rows x 6 columns]"
            ],
            "text/html": [
              "\n",
              "  <div id=\"df-af10b437-427d-406b-8210-7e7c2dfb7ef1\">\n",
              "    <div class=\"colab-df-container\">\n",
              "      <div>\n",
              "<style scoped>\n",
              "    .dataframe tbody tr th:only-of-type {\n",
              "        vertical-align: middle;\n",
              "    }\n",
              "\n",
              "    .dataframe tbody tr th {\n",
              "        vertical-align: top;\n",
              "    }\n",
              "\n",
              "    .dataframe thead th {\n",
              "        text-align: right;\n",
              "    }\n",
              "</style>\n",
              "<table border=\"1\" class=\"dataframe\">\n",
              "  <thead>\n",
              "    <tr style=\"text-align: right;\">\n",
              "      <th></th>\n",
              "      <th>Sections</th>\n",
              "      <th>Class</th>\n",
              "      <th>Summary_Length</th>\n",
              "      <th>Full_Text_Length</th>\n",
              "      <th>Links_Count</th>\n",
              "      <th>Categories_count</th>\n",
              "    </tr>\n",
              "  </thead>\n",
              "  <tbody>\n",
              "    <tr>\n",
              "      <th>1</th>\n",
              "      <td>2</td>\n",
              "      <td>Start</td>\n",
              "      <td>75.0</td>\n",
              "      <td>1752.0</td>\n",
              "      <td>28</td>\n",
              "      <td>24</td>\n",
              "    </tr>\n",
              "    <tr>\n",
              "      <th>3</th>\n",
              "      <td>4</td>\n",
              "      <td>Stub</td>\n",
              "      <td>391.0</td>\n",
              "      <td>956.0</td>\n",
              "      <td>16</td>\n",
              "      <td>12</td>\n",
              "    </tr>\n",
              "    <tr>\n",
              "      <th>4</th>\n",
              "      <td>4</td>\n",
              "      <td>Stub</td>\n",
              "      <td>514.0</td>\n",
              "      <td>948.0</td>\n",
              "      <td>32</td>\n",
              "      <td>12</td>\n",
              "    </tr>\n",
              "    <tr>\n",
              "      <th>5</th>\n",
              "      <td>0</td>\n",
              "      <td>Stub</td>\n",
              "      <td>293.0</td>\n",
              "      <td>293.0</td>\n",
              "      <td>81</td>\n",
              "      <td>20</td>\n",
              "    </tr>\n",
              "    <tr>\n",
              "      <th>6</th>\n",
              "      <td>11</td>\n",
              "      <td>Start</td>\n",
              "      <td>1128.0</td>\n",
              "      <td>11978.0</td>\n",
              "      <td>163</td>\n",
              "      <td>12</td>\n",
              "    </tr>\n",
              "    <tr>\n",
              "      <th>...</th>\n",
              "      <td>...</td>\n",
              "      <td>...</td>\n",
              "      <td>...</td>\n",
              "      <td>...</td>\n",
              "      <td>...</td>\n",
              "      <td>...</td>\n",
              "    </tr>\n",
              "    <tr>\n",
              "      <th>9738</th>\n",
              "      <td>7</td>\n",
              "      <td>FA</td>\n",
              "      <td>1110.0</td>\n",
              "      <td>9698.0</td>\n",
              "      <td>91</td>\n",
              "      <td>12</td>\n",
              "    </tr>\n",
              "    <tr>\n",
              "      <th>9739</th>\n",
              "      <td>5</td>\n",
              "      <td>FA</td>\n",
              "      <td>2486.0</td>\n",
              "      <td>32935.0</td>\n",
              "      <td>195</td>\n",
              "      <td>64</td>\n",
              "    </tr>\n",
              "    <tr>\n",
              "      <th>9740</th>\n",
              "      <td>7</td>\n",
              "      <td>FA</td>\n",
              "      <td>1110.0</td>\n",
              "      <td>9698.0</td>\n",
              "      <td>91</td>\n",
              "      <td>12</td>\n",
              "    </tr>\n",
              "    <tr>\n",
              "      <th>9741</th>\n",
              "      <td>7</td>\n",
              "      <td>FA</td>\n",
              "      <td>1110.0</td>\n",
              "      <td>9698.0</td>\n",
              "      <td>91</td>\n",
              "      <td>12</td>\n",
              "    </tr>\n",
              "    <tr>\n",
              "      <th>9742</th>\n",
              "      <td>7</td>\n",
              "      <td>FA</td>\n",
              "      <td>1110.0</td>\n",
              "      <td>9698.0</td>\n",
              "      <td>91</td>\n",
              "      <td>12</td>\n",
              "    </tr>\n",
              "  </tbody>\n",
              "</table>\n",
              "<p>6568 rows × 6 columns</p>\n",
              "</div>\n",
              "      <button class=\"colab-df-convert\" onclick=\"convertToInteractive('df-af10b437-427d-406b-8210-7e7c2dfb7ef1')\"\n",
              "              title=\"Convert this dataframe to an interactive table.\"\n",
              "              style=\"display:none;\">\n",
              "        \n",
              "  <svg xmlns=\"http://www.w3.org/2000/svg\" height=\"24px\"viewBox=\"0 0 24 24\"\n",
              "       width=\"24px\">\n",
              "    <path d=\"M0 0h24v24H0V0z\" fill=\"none\"/>\n",
              "    <path d=\"M18.56 5.44l.94 2.06.94-2.06 2.06-.94-2.06-.94-.94-2.06-.94 2.06-2.06.94zm-11 1L8.5 8.5l.94-2.06 2.06-.94-2.06-.94L8.5 2.5l-.94 2.06-2.06.94zm10 10l.94 2.06.94-2.06 2.06-.94-2.06-.94-.94-2.06-.94 2.06-2.06.94z\"/><path d=\"M17.41 7.96l-1.37-1.37c-.4-.4-.92-.59-1.43-.59-.52 0-1.04.2-1.43.59L10.3 9.45l-7.72 7.72c-.78.78-.78 2.05 0 2.83L4 21.41c.39.39.9.59 1.41.59.51 0 1.02-.2 1.41-.59l7.78-7.78 2.81-2.81c.8-.78.8-2.07 0-2.86zM5.41 20L4 18.59l7.72-7.72 1.47 1.35L5.41 20z\"/>\n",
              "  </svg>\n",
              "      </button>\n",
              "      \n",
              "  <style>\n",
              "    .colab-df-container {\n",
              "      display:flex;\n",
              "      flex-wrap:wrap;\n",
              "      gap: 12px;\n",
              "    }\n",
              "\n",
              "    .colab-df-convert {\n",
              "      background-color: #E8F0FE;\n",
              "      border: none;\n",
              "      border-radius: 50%;\n",
              "      cursor: pointer;\n",
              "      display: none;\n",
              "      fill: #1967D2;\n",
              "      height: 32px;\n",
              "      padding: 0 0 0 0;\n",
              "      width: 32px;\n",
              "    }\n",
              "\n",
              "    .colab-df-convert:hover {\n",
              "      background-color: #E2EBFA;\n",
              "      box-shadow: 0px 1px 2px rgba(60, 64, 67, 0.3), 0px 1px 3px 1px rgba(60, 64, 67, 0.15);\n",
              "      fill: #174EA6;\n",
              "    }\n",
              "\n",
              "    [theme=dark] .colab-df-convert {\n",
              "      background-color: #3B4455;\n",
              "      fill: #D2E3FC;\n",
              "    }\n",
              "\n",
              "    [theme=dark] .colab-df-convert:hover {\n",
              "      background-color: #434B5C;\n",
              "      box-shadow: 0px 1px 3px 1px rgba(0, 0, 0, 0.15);\n",
              "      filter: drop-shadow(0px 1px 2px rgba(0, 0, 0, 0.3));\n",
              "      fill: #FFFFFF;\n",
              "    }\n",
              "  </style>\n",
              "\n",
              "      <script>\n",
              "        const buttonEl =\n",
              "          document.querySelector('#df-af10b437-427d-406b-8210-7e7c2dfb7ef1 button.colab-df-convert');\n",
              "        buttonEl.style.display =\n",
              "          google.colab.kernel.accessAllowed ? 'block' : 'none';\n",
              "\n",
              "        async function convertToInteractive(key) {\n",
              "          const element = document.querySelector('#df-af10b437-427d-406b-8210-7e7c2dfb7ef1');\n",
              "          const dataTable =\n",
              "            await google.colab.kernel.invokeFunction('convertToInteractive',\n",
              "                                                     [key], {});\n",
              "          if (!dataTable) return;\n",
              "\n",
              "          const docLinkHtml = 'Like what you see? Visit the ' +\n",
              "            '<a target=\"_blank\" href=https://colab.research.google.com/notebooks/data_table.ipynb>data table notebook</a>'\n",
              "            + ' to learn more about interactive tables.';\n",
              "          element.innerHTML = '';\n",
              "          dataTable['output_type'] = 'display_data';\n",
              "          await google.colab.output.renderOutput(dataTable, element);\n",
              "          const docLink = document.createElement('div');\n",
              "          docLink.innerHTML = docLinkHtml;\n",
              "          element.appendChild(docLink);\n",
              "        }\n",
              "      </script>\n",
              "    </div>\n",
              "  </div>\n",
              "  "
            ]
          },
          "metadata": {},
          "execution_count": 22
        }
      ]
    },
    {
      "cell_type": "markdown",
      "source": [
        "#**3.EDA**"
      ],
      "metadata": {
        "id": "UeES7I5kWU-Z"
      }
    },
    {
      "cell_type": "code",
      "execution_count": 23,
      "metadata": {
        "colab": {
          "base_uri": "https://localhost:8080/",
          "height": 576
        },
        "id": "uZGwitOW2P0-",
        "outputId": "480b4e8a-2093-49c7-e82f-865f0ea86113"
      },
      "outputs": [
        {
          "output_type": "display_data",
          "data": {
            "text/plain": [
              "<Figure size 576x432 with 1 Axes>"
            ],
            "image/png": "[encoded data removed]"
          },
          "metadata": {
            "needs_background": "light"
          }
        }
      ],
      "source": [
        "\n",
        "import pandas as pd\n",
        "import matplotlib.pyplot as plt\n",
        "# Get value counts of 'Class' column\n",
        "class_counts = df['Class'].value_counts()\n",
        "\n",
        "# Calculate percentages\n",
        "total = sum(class_counts)\n",
        "percentages = [(count/total)*100 for count in class_counts]\n",
        "\n",
        "# Plot bar chart\n",
        "plt.figure(figsize=(8,6))\n",
        "ax = class_counts.plot(kind='bar')\n",
        "plt.title('Value counts of Class column')\n",
        "plt.xlabel('Class')\n",
        "plt.ylabel('Count')\n",
        "\n",
        "# Add percentage labels\n",
        "for i, v in enumerate(class_counts):\n",
        "    ax.text(i-0.1, v+5, str(round(percentages[i], 2))+'%', color='black', fontsize=10)\n",
        "\n",
        "plt.show()\n",
        "\n"
      ]
    },
    {
      "cell_type": "code",
      "source": [
        "df.Class.unique()"
      ],
      "metadata": {
        "colab": {
          "base_uri": "https://localhost:8080/"
        },
        "id": "2V_Xbro3eQFH",
        "outputId": "a454fbc1-1637-4fe5-8086-2685b45d3340"
      },
      "execution_count": 24,
      "outputs": [
        {
          "output_type": "execute_result",
          "data": {
            "text/plain": [
              "array(['Start', 'Stub', 'List', 'C', 'B', 'GA', 'FA',\n",
              "       'start}}{{WikiProject Southeast Asia', 'Class'], dtype=object)"
            ]
          },
          "metadata": {},
          "execution_count": 24
        }
      ]
    },
    {
      "cell_type": "code",
      "source": [
        "df['Class_Binary'] = (df['Class'] == 'FA').astype(int)\n",
        "df.drop('Class',inplace=True,axis=1)"
      ],
      "metadata": {
        "id": "HxHg0FxVe8Jg"
      },
      "execution_count": 25,
      "outputs": []
    },
    {
      "cell_type": "code",
      "source": [
        "df.isnull().sum()"
      ],
      "metadata": {
        "colab": {
          "base_uri": "https://localhost:8080/"
        },
        "id": "GKuCIBxkjj-6",
        "outputId": "79e4a1a0-810d-4686-f787-078e2b956451"
      },
      "execution_count": 31,
      "outputs": [
        {
          "output_type": "execute_result",
          "data": {
            "text/plain": [
              "Sections            0\n",
              "Summary_Length      0\n",
              "Full_Text_Length    0\n",
              "Links_Count         0\n",
              "Categories_count    0\n",
              "Class_Binary        0\n",
              "dtype: int64"
            ]
          },
          "metadata": {},
          "execution_count": 31
        }
      ]
    },
    {
      "cell_type": "code",
      "source": [
        "df = df.dropna(subset=['Summary_Length', 'Full_Text_Length'])\n"
      ],
      "metadata": {
        "id": "lF6YXNoyj0lB"
      },
      "execution_count": 30,
      "outputs": []
    },
    {
      "cell_type": "code",
      "source": [
        "df"
      ],
      "metadata": {
        "colab": {
          "base_uri": "https://localhost:8080/",
          "height": 423
        },
        "id": "Fciz2sIOo_35",
        "outputId": "80b8c8a2-dc92-4429-a94b-7fd258ce8f34"
      },
      "execution_count": 54,
      "outputs": [
        {
          "output_type": "execute_result",
          "data": {
            "text/plain": [
              "      Sections  Summary_Length  Full_Text_Length  Links_Count  \\\n",
              "1            2            75.0            1752.0           28   \n",
              "3            4           391.0             956.0           16   \n",
              "4            4           514.0             948.0           32   \n",
              "5            0           293.0             293.0           81   \n",
              "6           11          1128.0           11978.0          163   \n",
              "...        ...             ...               ...          ...   \n",
              "9738         7          1110.0            9698.0           91   \n",
              "9739         5          2486.0           32935.0          195   \n",
              "9740         7          1110.0            9698.0           91   \n",
              "9741         7          1110.0            9698.0           91   \n",
              "9742         7          1110.0            9698.0           91   \n",
              "\n",
              "      Categories_count  Class_Binary  \n",
              "1                   24             0  \n",
              "3                   12             0  \n",
              "4                   12             0  \n",
              "5                   20             0  \n",
              "6                   12             0  \n",
              "...                ...           ...  \n",
              "9738                12             1  \n",
              "9739                64             1  \n",
              "9740                12             1  \n",
              "9741                12             1  \n",
              "9742                12             1  \n",
              "\n",
              "[6169 rows x 6 columns]"
            ],
            "text/html": [
              "\n",
              "  <div id=\"df-e5eb2e7b-019e-4cdf-a1cc-f47c06817322\">\n",
              "    <div class=\"colab-df-container\">\n",
              "      <div>\n",
              "<style scoped>\n",
              "    .dataframe tbody tr th:only-of-type {\n",
              "        vertical-align: middle;\n",
              "    }\n",
              "\n",
              "    .dataframe tbody tr th {\n",
              "        vertical-align: top;\n",
              "    }\n",
              "\n",
              "    .dataframe thead th {\n",
              "        text-align: right;\n",
              "    }\n",
              "</style>\n",
              "<table border=\"1\" class=\"dataframe\">\n",
              "  <thead>\n",
              "    <tr style=\"text-align: right;\">\n",
              "      <th></th>\n",
              "      <th>Sections</th>\n",
              "      <th>Summary_Length</th>\n",
              "      <th>Full_Text_Length</th>\n",
              "      <th>Links_Count</th>\n",
              "      <th>Categories_count</th>\n",
              "      <th>Class_Binary</th>\n",
              "    </tr>\n",
              "  </thead>\n",
              "  <tbody>\n",
              "    <tr>\n",
              "      <th>1</th>\n",
              "      <td>2</td>\n",
              "      <td>75.0</td>\n",
              "      <td>1752.0</td>\n",
              "      <td>28</td>\n",
              "      <td>24</td>\n",
              "      <td>0</td>\n",
              "    </tr>\n",
              "    <tr>\n",
              "      <th>3</th>\n",
              "      <td>4</td>\n",
              "      <td>391.0</td>\n",
              "      <td>956.0</td>\n",
              "      <td>16</td>\n",
              "      <td>12</td>\n",
              "      <td>0</td>\n",
              "    </tr>\n",
              "    <tr>\n",
              "      <th>4</th>\n",
              "      <td>4</td>\n",
              "      <td>514.0</td>\n",
              "      <td>948.0</td>\n",
              "      <td>32</td>\n",
              "      <td>12</td>\n",
              "      <td>0</td>\n",
              "    </tr>\n",
              "    <tr>\n",
              "      <th>5</th>\n",
              "      <td>0</td>\n",
              "      <td>293.0</td>\n",
              "      <td>293.0</td>\n",
              "      <td>81</td>\n",
              "      <td>20</td>\n",
              "      <td>0</td>\n",
              "    </tr>\n",
              "    <tr>\n",
              "      <th>6</th>\n",
              "      <td>11</td>\n",
              "      <td>1128.0</td>\n",
              "      <td>11978.0</td>\n",
              "      <td>163</td>\n",
              "      <td>12</td>\n",
              "      <td>0</td>\n",
              "    </tr>\n",
              "    <tr>\n",
              "      <th>...</th>\n",
              "      <td>...</td>\n",
              "      <td>...</td>\n",
              "      <td>...</td>\n",
              "      <td>...</td>\n",
              "      <td>...</td>\n",
              "      <td>...</td>\n",
              "    </tr>\n",
              "    <tr>\n",
              "      <th>9738</th>\n",
              "      <td>7</td>\n",
              "      <td>1110.0</td>\n",
              "      <td>9698.0</td>\n",
              "      <td>91</td>\n",
              "      <td>12</td>\n",
              "      <td>1</td>\n",
              "    </tr>\n",
              "    <tr>\n",
              "      <th>9739</th>\n",
              "      <td>5</td>\n",
              "      <td>2486.0</td>\n",
              "      <td>32935.0</td>\n",
              "      <td>195</td>\n",
              "      <td>64</td>\n",
              "      <td>1</td>\n",
              "    </tr>\n",
              "    <tr>\n",
              "      <th>9740</th>\n",
              "      <td>7</td>\n",
              "      <td>1110.0</td>\n",
              "      <td>9698.0</td>\n",
              "      <td>91</td>\n",
              "      <td>12</td>\n",
              "      <td>1</td>\n",
              "    </tr>\n",
              "    <tr>\n",
              "      <th>9741</th>\n",
              "      <td>7</td>\n",
              "      <td>1110.0</td>\n",
              "      <td>9698.0</td>\n",
              "      <td>91</td>\n",
              "      <td>12</td>\n",
              "      <td>1</td>\n",
              "    </tr>\n",
              "    <tr>\n",
              "      <th>9742</th>\n",
              "      <td>7</td>\n",
              "      <td>1110.0</td>\n",
              "      <td>9698.0</td>\n",
              "      <td>91</td>\n",
              "      <td>12</td>\n",
              "      <td>1</td>\n",
              "    </tr>\n",
              "  </tbody>\n",
              "</table>\n",
              "<p>6169 rows × 6 columns</p>\n",
              "</div>\n",
              "      <button class=\"colab-df-convert\" onclick=\"convertToInteractive('df-e5eb2e7b-019e-4cdf-a1cc-f47c06817322')\"\n",
              "              title=\"Convert this dataframe to an interactive table.\"\n",
              "              style=\"display:none;\">\n",
              "        \n",
              "  <svg xmlns=\"http://www.w3.org/2000/svg\" height=\"24px\"viewBox=\"0 0 24 24\"\n",
              "       width=\"24px\">\n",
              "    <path d=\"M0 0h24v24H0V0z\" fill=\"none\"/>\n",
              "    <path d=\"M18.56 5.44l.94 2.06.94-2.06 2.06-.94-2.06-.94-.94-2.06-.94 2.06-2.06.94zm-11 1L8.5 8.5l.94-2.06 2.06-.94-2.06-.94L8.5 2.5l-.94 2.06-2.06.94zm10 10l.94 2.06.94-2.06 2.06-.94-2.06-.94-.94-2.06-.94 2.06-2.06.94z\"/><path d=\"M17.41 7.96l-1.37-1.37c-.4-.4-.92-.59-1.43-.59-.52 0-1.04.2-1.43.59L10.3 9.45l-7.72 7.72c-.78.78-.78 2.05 0 2.83L4 21.41c.39.39.9.59 1.41.59.51 0 1.02-.2 1.41-.59l7.78-7.78 2.81-2.81c.8-.78.8-2.07 0-2.86zM5.41 20L4 18.59l7.72-7.72 1.47 1.35L5.41 20z\"/>\n",
              "  </svg>\n",
              "      </button>\n",
              "      \n",
              "  <style>\n",
              "    .colab-df-container {\n",
              "      display:flex;\n",
              "      flex-wrap:wrap;\n",
              "      gap: 12px;\n",
              "    }\n",
              "\n",
              "    .colab-df-convert {\n",
              "      background-color: #E8F0FE;\n",
              "      border: none;\n",
              "      border-radius: 50%;\n",
              "      cursor: pointer;\n",
              "      display: none;\n",
              "      fill: #1967D2;\n",
              "      height: 32px;\n",
              "      padding: 0 0 0 0;\n",
              "      width: 32px;\n",
              "    }\n",
              "\n",
              "    .colab-df-convert:hover {\n",
              "      background-color: #E2EBFA;\n",
              "      box-shadow: 0px 1px 2px rgba(60, 64, 67, 0.3), 0px 1px 3px 1px rgba(60, 64, 67, 0.15);\n",
              "      fill: #174EA6;\n",
              "    }\n",
              "\n",
              "    [theme=dark] .colab-df-convert {\n",
              "      background-color: #3B4455;\n",
              "      fill: #D2E3FC;\n",
              "    }\n",
              "\n",
              "    [theme=dark] .colab-df-convert:hover {\n",
              "      background-color: #434B5C;\n",
              "      box-shadow: 0px 1px 3px 1px rgba(0, 0, 0, 0.15);\n",
              "      filter: drop-shadow(0px 1px 2px rgba(0, 0, 0, 0.3));\n",
              "      fill: #FFFFFF;\n",
              "    }\n",
              "  </style>\n",
              "\n",
              "      <script>\n",
              "        const buttonEl =\n",
              "          document.querySelector('#df-e5eb2e7b-019e-4cdf-a1cc-f47c06817322 button.colab-df-convert');\n",
              "        buttonEl.style.display =\n",
              "          google.colab.kernel.accessAllowed ? 'block' : 'none';\n",
              "\n",
              "        async function convertToInteractive(key) {\n",
              "          const element = document.querySelector('#df-e5eb2e7b-019e-4cdf-a1cc-f47c06817322');\n",
              "          const dataTable =\n",
              "            await google.colab.kernel.invokeFunction('convertToInteractive',\n",
              "                                                     [key], {});\n",
              "          if (!dataTable) return;\n",
              "\n",
              "          const docLinkHtml = 'Like what you see? Visit the ' +\n",
              "            '<a target=\"_blank\" href=https://colab.research.google.com/notebooks/data_table.ipynb>data table notebook</a>'\n",
              "            + ' to learn more about interactive tables.';\n",
              "          element.innerHTML = '';\n",
              "          dataTable['output_type'] = 'display_data';\n",
              "          await google.colab.output.renderOutput(dataTable, element);\n",
              "          const docLink = document.createElement('div');\n",
              "          docLink.innerHTML = docLinkHtml;\n",
              "          element.appendChild(docLink);\n",
              "        }\n",
              "      </script>\n",
              "    </div>\n",
              "  </div>\n",
              "  "
            ]
          },
          "metadata": {},
          "execution_count": 54
        }
      ]
    },
    {
      "cell_type": "markdown",
      "source": [
        "#**4.Split dataset**"
      ],
      "metadata": {
        "id": "C58ycorFftvh"
      }
    },
    {
      "cell_type": "markdown",
      "source": [
        "**split dependent and independent features**"
      ],
      "metadata": {
        "id": "fKmSdzy5gnCp"
      }
    },
    {
      "cell_type": "code",
      "source": [
        "X= df.drop(['Class_Binary'],axis=1)\n",
        "y= df['Class_Binary']\n"
      ],
      "metadata": {
        "id": "Dq_axGmDf26m"
      },
      "execution_count": 75,
      "outputs": []
    },
    {
      "cell_type": "markdown",
      "source": [
        "**Split data into train ad test data**"
      ],
      "metadata": {
        "id": "IlziZKrEgWg2"
      }
    },
    {
      "cell_type": "code",
      "source": [
        "X_train, X_test, y_train, y_test = train_test_split(X, y, test_size=0.33, random_state=42)"
      ],
      "metadata": {
        "id": "I0J5Aj-ygVZh"
      },
      "execution_count": 67,
      "outputs": []
    },
    {
      "cell_type": "markdown",
      "source": [
        "**Scalling**"
      ],
      "metadata": {
        "id": "OZCpt-pFg103"
      }
    },
    {
      "cell_type": "code",
      "source": [
        "scaler = StandardScaler()\n",
        "X_train = scaler.fit_transform(X_train)\n",
        "X_test = scaler.transform(X_test)"
      ],
      "metadata": {
        "id": "St7VWyXegy_x"
      },
      "execution_count": 68,
      "outputs": []
    },
    {
      "cell_type": "markdown",
      "source": [
        "**SMOTE**"
      ],
      "metadata": {
        "id": "v5Nj_SksxDMg"
      }
    },
    {
      "cell_type": "code",
      "source": [
        "smote_tomek = SMOTETomek(sampling_strategy=0.75)\n",
        "\n",
        "\n",
        "X_resampled, y_resampled  = smote_tomek.fit_resample(X, y)\n",
        "\n",
        "# Checking the class distribution of the resampled data\n",
        "print(y_resampled .value_counts())"
      ],
      "metadata": {
        "colab": {
          "base_uri": "https://localhost:8080/"
        },
        "id": "270lkjbLg4gS",
        "outputId": "0e94a775-10bd-4bf6-bd68-420ab23ea0bb"
      },
      "execution_count": 83,
      "outputs": [
        {
          "output_type": "stream",
          "name": "stdout",
          "text": [
            "0    6018\n",
            "1    4508\n",
            "Name: Class_Binary, dtype: int64\n"
          ]
        }
      ]
    },
    {
      "cell_type": "markdown",
      "source": [
        "#**Models**"
      ],
      "metadata": {
        "id": "aDbVY6B6g8Uf"
      }
    },
    {
      "cell_type": "markdown",
      "source": [
        "**1.Logistic Regression model**"
      ],
      "metadata": {
        "id": "EFutatNrlwkZ"
      }
    },
    {
      "cell_type": "code",
      "source": [
        "\n",
        "lr_model = LogisticRegression(max_iter=200)\n",
        "lr_model.fit(X_train, y_train)\n",
        "test_predicted=lr_model.predict(X_test)\n",
        "train_predicted=lr_model.predict(X_train)\n",
        "\n",
        "print()\n",
        "print()\n",
        "print (\"The accuracy of Logistic Regression on training data : \", accuracy_score(y_train, train_predicted)*100, \"%\")\n",
        "print (\"The accuracy of Logistic Regression on testing data : \", accuracy_score(y_test, test_predicted)*100, \"%\")\n",
        "print (\"The aurroc_auc_score of Logistic Regression is : \", roc_auc_score(y_test, lr_model.predict_proba(X_test)[:, 1]))\n"
      ],
      "metadata": {
        "colab": {
          "base_uri": "https://localhost:8080/"
        },
        "id": "bqGoSh5ShCWF",
        "outputId": "2db0b2fd-09be-480f-8b49-7a05cfce0abb"
      },
      "execution_count": 69,
      "outputs": [
        {
          "output_type": "stream",
          "name": "stdout",
          "text": [
            "\n",
            "\n",
            "The accuracy of Logistic Regression on training data :  97.96757803048632 %\n",
            "The accuracy of Logistic Regression on testing data :  98.47740667976424 %\n",
            "The aurroc_auc_score of Logistic Regression is :  0.9664291441625441\n"
          ]
        }
      ]
    },
    {
      "cell_type": "markdown",
      "source": [
        "**1.Logistic Regression model with SMOT Sampling stratergy**"
      ],
      "metadata": {
        "id": "FG2qnQBul9Hz"
      }
    },
    {
      "cell_type": "code",
      "source": [
        "\n",
        "X_train, X_test, y_train, y_test = train_test_split(X_resampled, y_resampled , test_size=0.33, random_state=42)\n",
        "scaler = StandardScaler()\n",
        "X_train = scaler.fit_transform(X_train)\n",
        "X_test = scaler.transform(X_test)\n",
        "\n",
        "lr_model = LogisticRegression(max_iter=100)\n",
        "lr_model.fit(X_train, y_train)\n",
        "train_predicted=lr_model.predict(X_train)\n",
        "test_predicted=lr_model.predict(X_test)\n",
        "print()\n",
        "print()\n",
        "\n",
        "print (\"The accuracy of Logistic Regression on training data : \", accuracy_score(y_train, train_predicted)*100, \"%\")\n",
        "print (\"The accuracy of Logistic Regression on testing data : \", accuracy_score(y_test, test_predicted)*100, \"%\")\n",
        "print (\"The aurroc_auc_score of Logistic Regression is : \", roc_auc_score(y_test, lr_model.predict_proba(X_test)[:, 1]))\n",
        "\n"
      ],
      "metadata": {
        "colab": {
          "base_uri": "https://localhost:8080/"
        },
        "id": "mqNoaBKnk7qu",
        "outputId": "a00fa624-26b4-4b62-f294-d6897b954441"
      },
      "execution_count": 84,
      "outputs": [
        {
          "output_type": "stream",
          "name": "stdout",
          "text": [
            "\n",
            "\n",
            "The accuracy of Logistic Regression on training data :  94.29948950652297 %\n",
            "The accuracy of Logistic Regression on testing data :  94.76108232584917 %\n",
            "The aurroc_auc_score of Logistic Regression is :  0.9678974395277666\n"
          ]
        }
      ]
    },
    {
      "cell_type": "markdown",
      "source": [
        "**2.Random Forest**"
      ],
      "metadata": {
        "id": "XyaeOll9mRO8"
      }
    },
    {
      "cell_type": "code",
      "source": [
        "rf_model = RandomForestClassifier(n_estimators = 100, random_state = 0)  \n",
        "\n",
        "rf_model.fit(X_train, y_train)  \n",
        "\n",
        "predicted_test = rf_model.predict(X_test)\n",
        "predicted_train = rf_model.predict(X_test)\n",
        "\n",
        "print(\"The accuracy of Random Forest on testing datset : \", accuracy_score(y_test, predicted_train.round())*100, \"%\")\n",
        "print(\"The accuracy of Random Forest on training dataset : \", accuracy_score(y_test, predicted_test.round())*100, \"%\")\n",
        "print()\n",
        "print (\"The aurroc_auc_score of  random forest is : \", roc_auc_score(y_test, rf_model.predict_proba(X_test)[:, 1]))"
      ],
      "metadata": {
        "colab": {
          "base_uri": "https://localhost:8080/"
        },
        "id": "0J5dxjHEmbW_",
        "outputId": "f7c9f136-838f-4b0d-f01e-d854b199e1ee"
      },
      "execution_count": 70,
      "outputs": [
        {
          "output_type": "stream",
          "name": "stdout",
          "text": [
            "The accuracy of Random Forest on testing datset :  99.50884086444007 %\n",
            "The accuracy of Random Forest on training dataset :  99.50884086444007 %\n",
            "\n",
            "The aurroc_auc_score of  random forest is :  0.9660811812584155\n"
          ]
        }
      ]
    },
    {
      "cell_type": "markdown",
      "source": [
        "**2.Random Forest with SMOT**"
      ],
      "metadata": {
        "id": "pT8Nj4Ohm2mY"
      }
    },
    {
      "cell_type": "code",
      "source": [
        "X_train, X_test, y_train, y_test = train_test_split(X_resampled, y_resampled , test_size=0.33, random_state=42)\n",
        "scaler = StandardScaler()\n",
        "X_train = scaler.fit_transform(X_train)\n",
        "X_test = scaler.transform(X_test)\n",
        "\n",
        "rf_model = RandomForestClassifier(n_estimators = 100, random_state = 0)  \n",
        "\n",
        "rf_model.fit(X_train, y_train)  \n",
        "\n",
        "predicted_test = rf_model.predict(X_test)\n",
        "predicted_train = rf_model.predict(X_test)\n",
        "\n",
        "print(\"The accuracy of Random Forest on testing datset : \", accuracy_score(y_test, predicted_train.round())*100, \"%\")\n",
        "print(\"The accuracy of Random Forest on training dataset : \", accuracy_score(y_test, predicted_test.round())*100, \"%\")\n",
        "print()\n",
        "print (\"The aurroc_auc_score of  random forest is : \", roc_auc_score(y_test, rf_model.predict_proba(X_test)[:, 1]))"
      ],
      "metadata": {
        "colab": {
          "base_uri": "https://localhost:8080/"
        },
        "id": "b7-dpJk9m9f6",
        "outputId": "3695ee98-88a7-4a18-d521-132137913350"
      },
      "execution_count": 85,
      "outputs": [
        {
          "output_type": "stream",
          "name": "stdout",
          "text": [
            "The accuracy of Random Forest on testing datset :  99.3091537132988 %\n",
            "The accuracy of Random Forest on training dataset :  99.3091537132988 %\n",
            "\n",
            "The aurroc_auc_score of  random forest is :  0.999093665254468\n"
          ]
        }
      ]
    },
    {
      "cell_type": "markdown",
      "source": [
        "**3.SVC model**"
      ],
      "metadata": {
        "id": "FtRpGU0vtiPe"
      }
    },
    {
      "cell_type": "code",
      "source": [
        "svm_model = SVC(kernel='rbf', probability=True)\n",
        "\n",
        "svm_model.fit(X_train, y_train)\n",
        "\n",
        "predicted_test = svm_model.predict(X_test)\n",
        "predicted_train = svm_model.predict(X_train)\n",
        "\n",
        "print(\"The accuracy of SVM on testing dataset : \", accuracy_score(y_test, predicted_test)*100, \"%\")\n",
        "print(\"The accuracy of SVM on training dataset : \", accuracy_score(y_train, predicted_train)*100, \"%\")\n",
        "print()\n",
        "print(\"The aucroc score of SVM is : \", roc_auc_score(y_test, svm_model.predict_proba(X_test)[:, 1]))\n"
      ],
      "metadata": {
        "colab": {
          "base_uri": "https://localhost:8080/"
        },
        "id": "ucF_vm5itd5D",
        "outputId": "4ca8f4cb-a686-41c7-a142-af2c79c6726f"
      },
      "execution_count": 71,
      "outputs": [
        {
          "output_type": "stream",
          "name": "stdout",
          "text": [
            "The accuracy of SVM on testing dataset :  99.01768172888016 %\n",
            "The accuracy of SVM on training dataset :  98.45148802322768 %\n",
            "\n",
            "The aucroc score of SVM is :  0.9591521808196795\n"
          ]
        }
      ]
    },
    {
      "cell_type": "markdown",
      "source": [
        "**SVC Model with SMOT**"
      ],
      "metadata": {
        "id": "9JnvK4aWuYlx"
      }
    },
    {
      "cell_type": "code",
      "source": [
        "\n",
        "# Split the dataset into training and testing datasets\n",
        "X_train, X_test, y_train, y_test = train_test_split(X_resampled, y_resampled, test_size=0.33, random_state=42)\n",
        "\n",
        "# Scale the features using StandardScaler\n",
        "scaler = StandardScaler()\n",
        "X_train = scaler.fit_transform(X_train)\n",
        "X_test = scaler.transform(X_test)\n",
        "\n",
        "# Train a Support Vector Machine classifier\n",
        "svm_model = SVC(kernel='linear', C=1.0, random_state=42)\n",
        "svm_model.fit(X_train, y_train)\n",
        "\n",
        "# Predict the labels of the test dataset\n",
        "y_pred_test = svm_model.predict(X_test)\n",
        "\n",
        "# Calculate the accuracy of the classifier\n",
        "accuracy = accuracy_score(y_test, y_pred_test)\n",
        "print(\"The accuracy of SVM on the testing dataset:\", accuracy)\n",
        "\n",
        "# Calculate the AUC score of the classifier\n",
        "y_prob_test = svm_model.decision_function(X_test)\n",
        "auc_score = roc_auc_score(y_test, y_prob_test)\n",
        "print(\"The AUC score of SVM on the testing dataset:\", auc_score)\n"
      ],
      "metadata": {
        "colab": {
          "base_uri": "https://localhost:8080/"
        },
        "id": "PQaE5rmHxfjw",
        "outputId": "bb37b502-1146-467d-f3fc-92a2b3a98e9e"
      },
      "execution_count": 86,
      "outputs": [
        {
          "output_type": "stream",
          "name": "stdout",
          "text": [
            "The accuracy of SVM on the testing dataset: 0.9447322970639033\n",
            "The AUC score of SVM on the testing dataset: 0.9680584220041604\n"
          ]
        }
      ]
    },
    {
      "cell_type": "markdown",
      "source": [
        "**Oberservation**\n",
        "\n",
        "**When we are using smote stratergy accuracy getting reduced and without smote it is increasing**"
      ],
      "metadata": {
        "id": "VBs9YpDW2g5b"
      }
    },
    {
      "cell_type": "markdown",
      "source": [
        "#**Post Evaluation**"
      ],
      "metadata": {
        "id": "dtDYyhFPn4lE"
      }
    },
    {
      "cell_type": "markdown",
      "source": [
        "**1. What’s the accuracy you are getting?**\n",
        "\n",
        "Highest accuracy getting from Random Forest Classifier 99.5\n",
        "\n",
        "From logistic regression 97.7\n",
        "\n",
        "and from SVM 99.01"
      ],
      "metadata": {
        "id": "UJMocFeU1pvl"
      }
    },
    {
      "cell_type": "markdown",
      "source": [
        "**2.What if i choose SVM instead of logistic regression?**\n",
        "\n",
        "As per accuracy and auroc score SVM performing better than logistic regression"
      ],
      "metadata": {
        "id": "WE0WRcxaycXo"
      }
    },
    {
      "cell_type": "markdown",
      "source": [
        "**3. What features do you think are important? Can you get the same accuracy using only a single feature?**"
      ],
      "metadata": {
        "id": "kwAA4lEE1k3p"
      }
    },
    {
      "cell_type": "markdown",
      "source": [
        "**Feature Importance**"
      ],
      "metadata": {
        "id": "6xacF6fgoGC7"
      }
    },
    {
      "cell_type": "code",
      "source": [
        "importances = rf_model.feature_importances_\n",
        "df1 = pd.DataFrame({\"Features\":pd.DataFrame(X_test).columns,\"importances\":importances})\n",
        "df1.set_index(\"importances\")\n",
        "\n",
        "df1 = df1.sort_values('importances')\n",
        "df1.plot.bar(color='teal')"
      ],
      "metadata": {
        "colab": {
          "base_uri": "https://localhost:8080/",
          "height": 280
        },
        "id": "Mlm0VZrjoKzL",
        "outputId": "94070433-25bc-458d-9833-4b4eb6041ddb"
      },
      "execution_count": 49,
      "outputs": [
        {
          "output_type": "execute_result",
          "data": {
            "text/plain": [
              "<AxesSubplot:>"
            ]
          },
          "metadata": {},
          "execution_count": 49
        },
        {
          "output_type": "display_data",
          "data": {
            "text/plain": [
              "<Figure size 432x288 with 1 Axes>"
            ],
            "image/png": "[encoded data removed]"
          },
          "metadata": {
            "needs_background": "light"
          }
        }
      ]
    },
    {
      "cell_type": "code",
      "source": [
        "df2=df.drop('Class_Binary',axis=1)\n",
        "feature_names = list(df2.columns)\n",
        "if 'y' in feature_names:\n",
        "    feature_names.remove('y')\n",
        "total_importance = importances.sum()\n",
        "percent_importances = importances / total_importance * 100\n",
        "\n",
        "# DataFrame with the feature names and their percent importances\n",
        "df2 = pd.DataFrame({'feature_names': feature_names, 'percent_importances': percent_importances})\n",
        "\n",
        "# Sort the DataFrame\n",
        "df2 = df2.sort_values(by='percent_importances', ascending=False)\n",
        "\n",
        "#bar plot of the percent importances\n",
        "plt.bar(x=df2['feature_names'], height=df2['percent_importances'], color='teal')\n",
        "plt.xticks(rotation=90)\n",
        "plt.xlabel('Feature')\n",
        "plt.ylabel('Percent Importance')\n",
        "plt.show()\n"
      ],
      "metadata": {
        "colab": {
          "base_uri": "https://localhost:8080/",
          "height": 357
        },
        "id": "EHVNmmTeoecx",
        "outputId": "a7cb985f-4804-46f3-fbf5-67a4a0cbcbf5"
      },
      "execution_count": 56,
      "outputs": [
        {
          "output_type": "display_data",
          "data": {
            "text/plain": [
              "<Figure size 432x288 with 1 Axes>"
            ],
            "image/png": "[encoded data removed]"
          },
          "metadata": {
            "needs_background": "light"
          }
        }
      ]
    },
    {
      "cell_type": "markdown",
      "source": [
        "**when we use most important feature as single independent feature**"
      ],
      "metadata": {
        "id": "ykv1-3qN1FFh"
      }
    },
    {
      "cell_type": "code",
      "source": [
        "X_new = X['Full_Text_Length'].values.reshape(-1, 1)\n",
        "y_new= y\n",
        "X_train, X_test, y_train, y_test = train_test_split(X_new, y_new, test_size=0.33, random_state=42)\n",
        "\n",
        "# Scale the features using StandardScaler\n",
        "scaler = StandardScaler()\n",
        "X_train = scaler.fit_transform(X_train)\n",
        "X_test = scaler.transform(X_test)\n",
        "\n",
        "rf_model = RandomForestClassifier(n_estimators = 100, random_state = 0)  \n",
        "\n",
        "rf_model.fit(X_train, y_train)  \n",
        "\n",
        "predicted_test = rf_model.predict(X_test)\n",
        "predicted_train = rf_model.predict(X_test)\n",
        "\n",
        "print(\"The accuracy of Random Forest on testing datset : \", accuracy_score(y_test, predicted_train.round())*100, \"%\")\n",
        "print(\"The accuracy of Random Forest on training dataset : \", accuracy_score(y_test, predicted_test.round())*100, \"%\")\n",
        "print()\n",
        "print (\"The aurroc_auc_score of  random forest is : \", roc_auc_score(y_test, rf_model.predict_proba(X_test)[:, 1]))"
      ],
      "metadata": {
        "colab": {
          "base_uri": "https://localhost:8080/"
        },
        "id": "awR2aav9y4CI",
        "outputId": "1c52a12d-dae4-4719-a041-e2c5ff416ccc"
      },
      "execution_count": 89,
      "outputs": [
        {
          "output_type": "stream",
          "name": "stdout",
          "text": [
            "The accuracy of Random Forest on testing datset :  99.16502946954814 %\n",
            "The accuracy of Random Forest on training dataset :  99.16502946954814 %\n",
            "\n",
            "The aurroc_auc_score of  random forest is :  0.9362547088458222\n"
          ]
        }
      ]
    },
    {
      "cell_type": "markdown",
      "source": [
        "**we get slightly less accuracy it means other features are also important**"
      ],
      "metadata": {
        "id": "SdV_Ktqd1CpH"
      }
    }
  ],
  "metadata": {
    "colab": {
      "provenance": [],
      "authorship_tag": "ABX9TyMnuaoquM0b8nJ0YL6gLyxy",
      "include_colab_link": true
    },
    "kernelspec": {
      "display_name": "Python 3",
      "name": "python3"
    },
    "language_info": {
      "name": "python"
    }
  },
  "nbformat": 4,
  "nbformat_minor": 0
}